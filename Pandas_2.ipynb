{
 "cells": [
  {
   "cell_type": "code",
   "execution_count": 2,
   "id": "d8cdd414",
   "metadata": {},
   "outputs": [],
   "source": [
    "import pandas as pd"
   ]
  },
  {
   "cell_type": "markdown",
   "id": "c6b477f4",
   "metadata": {},
   "source": [
    "# Pandas 실습2"
   ]
  },
  {
   "cell_type": "markdown",
   "id": "72cca3bf",
   "metadata": {},
   "source": [
    "1. 함수 적용(apply operations) <br>\n",
    ": 사전에 정의되어 있거나, 사용자가 작성한 함수를 row/column/cell/group 기준으로 적용(apply)하는 함수\n",
    "\n",
    "\n",
    "2. 데이터 변환(transformation) <br>\n",
    ": 데이터프레임의 차원이나 구조를 변경하는 함수\n",
    "    \n",
    "    \n",
    "3. 데이터 합치기(merge) <br>\n",
    ": 두 개 이상의 Series 혹은 DataFrame을 합쳐서 새로운 데이터프레임을 생성"
   ]
  },
  {
   "cell_type": "code",
   "execution_count": 3,
   "id": "e4124031",
   "metadata": {},
   "outputs": [],
   "source": [
    "snp_comps = pd.read_csv('./data/sp500_companies.csv')\n",
    "snp_price = pd.read_csv('./data/sp500_index.csv')\n",
    "snp_stocks = pd.read_csv('./data/sp500_stocks.csv')"
   ]
  },
  {
   "cell_type": "markdown",
   "id": "e9c358d1",
   "metadata": {},
   "source": [
    "# 함수 적용 (apply operations)"
   ]
  },
  {
   "cell_type": "markdown",
   "id": "7eb70831",
   "metadata": {},
   "source": [
    "## 가장 많이 사용하는 함수는 apply, groupby"
   ]
  },
  {
   "cell_type": "markdown",
   "id": "8dd4059e",
   "metadata": {},
   "source": [
    "## pd.Series"
   ]
  },
  {
   "cell_type": "markdown",
   "id": "4f676532",
   "metadata": {},
   "source": [
    "![apply_oper_series](./img/apply_oper_series.png)"
   ]
  },
  {
   "cell_type": "code",
   "execution_count": 4,
   "id": "f464a8e2",
   "metadata": {},
   "outputs": [],
   "source": [
    "snp_comps = snp_comps.set_index('Symbol')"
   ]
  },
  {
   "cell_type": "code",
   "execution_count": 5,
   "id": "b333d587",
   "metadata": {},
   "outputs": [],
   "source": [
    "exch_map_srs = pd.Series(['UW', 'UN', 'UQ', 'UF'], index=['NMS', 'NYQ', 'NGM', 'BTS'])\n",
    "exch_map_dict = exch_map_srs.to_dict()"
   ]
  },
  {
   "cell_type": "code",
   "execution_count": 6,
   "id": "65407afe",
   "metadata": {},
   "outputs": [
    {
     "data": {
      "text/plain": [
       "pandas.core.series.Series"
      ]
     },
     "execution_count": 6,
     "metadata": {},
     "output_type": "execute_result"
    }
   ],
   "source": [
    "type(exch_map_srs)"
   ]
  },
  {
   "cell_type": "markdown",
   "id": "f27f9de5",
   "metadata": {},
   "source": [
    "### Series.map 입력은 Series, dict, 혹은 function 가능"
   ]
  },
  {
   "cell_type": "code",
   "execution_count": 7,
   "id": "3fec801f",
   "metadata": {},
   "outputs": [
    {
     "data": {
      "text/plain": [
       "Symbol\n",
       "AAPL     UW\n",
       "MSFT     UW\n",
       "GOOGL    UW\n",
       "GOOG     UW\n",
       "AMZN     UW\n",
       "         ..\n",
       "XRAY     UW\n",
       "MHK      UN\n",
       "ALK      UN\n",
       "NWL      UW\n",
       "VNO      UN\n",
       "Name: Exchange, Length: 495, dtype: object"
      ]
     },
     "execution_count": 7,
     "metadata": {},
     "output_type": "execute_result"
    }
   ],
   "source": [
    "# Series.map(Series)\n",
    "snp_comps.Exchange.map(exch_map_srs)"
   ]
  },
  {
   "cell_type": "code",
   "execution_count": 8,
   "id": "46e8a77b",
   "metadata": {},
   "outputs": [],
   "source": [
    "snp_comps.loc[:, 'ExchangeSymbol'] = snp_comps.Exchange.map(exch_map_srs)"
   ]
  },
  {
   "cell_type": "code",
   "execution_count": 9,
   "id": "f273a2b3",
   "metadata": {},
   "outputs": [
    {
     "data": {
      "text/plain": [
       "Symbol\n",
       "AAPL     UW\n",
       "MSFT     UW\n",
       "GOOGL    UW\n",
       "GOOG     UW\n",
       "AMZN     UW\n",
       "         ..\n",
       "XRAY     UW\n",
       "MHK      UN\n",
       "ALK      UN\n",
       "NWL      UW\n",
       "VNO      UN\n",
       "Name: Exchange, Length: 495, dtype: object"
      ]
     },
     "execution_count": 9,
     "metadata": {},
     "output_type": "execute_result"
    }
   ],
   "source": [
    "# Series.map(dict)\n",
    "snp_comps.Exchange.map(exch_map_dict)"
   ]
  },
  {
   "cell_type": "code",
   "execution_count": 10,
   "id": "44063443",
   "metadata": {},
   "outputs": [],
   "source": [
    "def alter_exch_symbol(x):\n",
    "    if x == 'NMS':\n",
    "        out_ = 'UW'\n",
    "    elif x == 'NYQ':\n",
    "        out_ = 'UN'\n",
    "    elif x == 'NGM':\n",
    "        out_ = 'UQ'\n",
    "    elif x == 'BTS':\n",
    "        out_ = 'UF'\n",
    "    return out_"
   ]
  },
  {
   "cell_type": "code",
   "execution_count": 11,
   "id": "fbee74ec",
   "metadata": {},
   "outputs": [
    {
     "data": {
      "text/plain": [
       "Symbol\n",
       "AAPL     UW\n",
       "MSFT     UW\n",
       "GOOGL    UW\n",
       "GOOG     UW\n",
       "AMZN     UW\n",
       "         ..\n",
       "XRAY     UW\n",
       "MHK      UN\n",
       "ALK      UN\n",
       "NWL      UW\n",
       "VNO      UN\n",
       "Name: Exchange, Length: 495, dtype: object"
      ]
     },
     "execution_count": 11,
     "metadata": {},
     "output_type": "execute_result"
    }
   ],
   "source": [
    "# Series.map(func)\n",
    "snp_comps.Exchange.map(alter_exch_symbol)"
   ]
  },
  {
   "cell_type": "markdown",
   "id": "78be9c6b",
   "metadata": {},
   "source": [
    "### Series.apply의 입력은 function만 가능"
   ]
  },
  {
   "cell_type": "code",
   "execution_count": 12,
   "id": "52736dc2",
   "metadata": {},
   "outputs": [
    {
     "data": {
      "text/plain": [
       "Symbol\n",
       "AAPL     UW\n",
       "MSFT     UW\n",
       "GOOGL    UW\n",
       "GOOG     UW\n",
       "AMZN     UW\n",
       "         ..\n",
       "XRAY     UW\n",
       "MHK      UN\n",
       "ALK      UN\n",
       "NWL      UW\n",
       "VNO      UN\n",
       "Name: Exchange, Length: 495, dtype: object"
      ]
     },
     "execution_count": 12,
     "metadata": {},
     "output_type": "execute_result"
    }
   ],
   "source": [
    "snp_comps.Exchange.apply(alter_exch_symbol)"
   ]
  },
  {
   "cell_type": "markdown",
   "id": "136e2ff7",
   "metadata": {},
   "source": [
    "### Mapping 입력값이 함수(function)일 경우, map과 apply는 동일한 결과\n",
    "- 매핑하고자 하는 정보가 series이거나 dict일 경우, map 사용\n",
    "- 매핑 데이터가 함수일 경우, apply 사용"
   ]
  },
  {
   "cell_type": "markdown",
   "id": "ed8a4643",
   "metadata": {},
   "source": [
    "### lambda 함수란? : a small anonymous function\n",
    "- 이름을 지정하지 않은 간단한 함수  \n",
    "- lambda $argument$ : $expression$"
   ]
  },
  {
   "cell_type": "code",
   "execution_count": 13,
   "id": "887e260b",
   "metadata": {},
   "outputs": [
    {
     "data": {
      "text/plain": [
       "Symbol\n",
       "AAPL     6.908983\n",
       "MSFT     4.948586\n",
       "GOOGL    3.373400\n",
       "GOOG     3.371907\n",
       "AMZN     2.814262\n",
       "           ...   \n",
       "XRAY     0.018448\n",
       "MHK      0.018350\n",
       "ALK      0.016545\n",
       "NWL      0.016382\n",
       "VNO      0.013110\n",
       "Name: Weight, Length: 495, dtype: float64"
      ]
     },
     "execution_count": 13,
     "metadata": {},
     "output_type": "execute_result"
    }
   ],
   "source": [
    "snp_comps.Weight.apply(lambda x: x * 100)"
   ]
  },
  {
   "cell_type": "markdown",
   "id": "ff5ce153",
   "metadata": {},
   "source": [
    "### pd.agg (pd.aggregate) : 여러 개의 함수를 동시에 적용"
   ]
  },
  {
   "cell_type": "code",
   "execution_count": 14,
   "id": "46ef7131",
   "metadata": {},
   "outputs": [
    {
     "data": {
      "text/plain": [
       "Symbol\n",
       "AAPL     188539.0\n",
       "MSFT     286130.0\n",
       "GOOGL    113061.0\n",
       "GOOG     113191.0\n",
       "AMZN     119756.0\n",
       "           ...   \n",
       "XRAY      36634.0\n",
       "MHK      117611.0\n",
       "ALK       56628.0\n",
       "NWL       16718.0\n",
       "VNO       29692.0\n",
       "Name: Currentprice, Length: 495, dtype: float64"
      ]
     },
     "execution_count": 14,
     "metadata": {},
     "output_type": "execute_result"
    }
   ],
   "source": [
    "snp_comps.Currentprice.agg(lambda x: x * 1300)\n",
    "# snp_comps.Currentprice.apply(lambda x: x * 1300)"
   ]
  },
  {
   "cell_type": "code",
   "execution_count": 2,
   "id": "67a6bd57",
   "metadata": {},
   "outputs": [
    {
     "ename": "NameError",
     "evalue": "name 'snp_comps' is not defined",
     "output_type": "error",
     "traceback": [
      "\u001b[1;31m---------------------------------------------------------------------------\u001b[0m",
      "\u001b[1;31mNameError\u001b[0m                                 Traceback (most recent call last)",
      "\u001b[1;32m~\\AppData\\Local\\Temp\\ipykernel_14304\\3664429114.py\u001b[0m in \u001b[0;36m<module>\u001b[1;34m\u001b[0m\n\u001b[1;32m----> 1\u001b[1;33m \u001b[0msnp_comps\u001b[0m\u001b[1;33m.\u001b[0m\u001b[0mCurrentprice\u001b[0m\u001b[1;33m.\u001b[0m\u001b[0magg\u001b[0m\u001b[1;33m(\u001b[0m\u001b[1;33m[\u001b[0m\u001b[1;32mlambda\u001b[0m \u001b[0mx\u001b[0m\u001b[1;33m:\u001b[0m \u001b[0mx\u001b[0m \u001b[1;33m*\u001b[0m \u001b[1;36m1300\u001b[0m\u001b[1;33m,\u001b[0m \u001b[1;32mlambda\u001b[0m \u001b[0mx\u001b[0m\u001b[1;33m:\u001b[0m \u001b[0mx\u001b[0m \u001b[1;33m*\u001b[0m \u001b[1;36m1400\u001b[0m\u001b[1;33m]\u001b[0m\u001b[1;33m)\u001b[0m\u001b[1;33m.\u001b[0m\u001b[0msort_values\u001b[0m\u001b[1;33m(\u001b[0m\u001b[1;33m)\u001b[0m\u001b[1;33m\u001b[0m\u001b[1;33m\u001b[0m\u001b[0m\n\u001b[0m",
      "\u001b[1;31mNameError\u001b[0m: name 'snp_comps' is not defined"
     ]
    }
   ],
   "source": [
    "snp_comps.Currentprice.agg([lambda x: x * 1300, lambda x: x * 1400])"
   ]
  },
  {
   "cell_type": "code",
   "execution_count": 16,
   "id": "12167561",
   "metadata": {},
   "outputs": [],
   "source": [
    "import numpy as np"
   ]
  },
  {
   "cell_type": "code",
   "execution_count": 17,
   "id": "a0b24021",
   "metadata": {},
   "outputs": [
    {
     "data": {
      "text/plain": [
       "157.1313838383837"
      ]
     },
     "execution_count": 17,
     "metadata": {},
     "output_type": "execute_result"
    }
   ],
   "source": [
    "snp_comps.Currentprice.agg(np.mean)"
   ]
  },
  {
   "cell_type": "code",
   "execution_count": 18,
   "id": "44140227",
   "metadata": {},
   "outputs": [
    {
     "data": {
      "text/plain": [
       "mean    157.131384\n",
       "std     260.929441\n",
       "Name: Currentprice, dtype: float64"
      ]
     },
     "execution_count": 18,
     "metadata": {},
     "output_type": "execute_result"
    }
   ],
   "source": [
    "snp_comps.Currentprice.agg([np.mean, np.std])"
   ]
  },
  {
   "cell_type": "markdown",
   "id": "bad7b656",
   "metadata": {},
   "source": [
    "### agg와 apply 동일한 결과를 반환하지만,\n",
    "가장 큰 차이점은 <br>\n",
    "지정된 함수의 입력값이 각 element를 받느냐, <br>\n",
    "아니면 전체 series를 받는지에 대한 차이가 있음 <br>\n",
    "agg도 기본적으로 각 element를 입력으로 받지만, Series에 적용되야 하는 함수(ex. sum or mean)가 있을 경우, series 전체를 입력으로 받음"
   ]
  },
  {
   "cell_type": "code",
   "execution_count": 19,
   "id": "ba00a982",
   "metadata": {},
   "outputs": [
    {
     "data": {
      "text/plain": [
       "Symbol\n",
       "AAPL     188539.0\n",
       "MSFT     286130.0\n",
       "GOOGL    113061.0\n",
       "GOOG     113191.0\n",
       "AMZN     119756.0\n",
       "           ...   \n",
       "XRAY      36634.0\n",
       "MHK      117611.0\n",
       "ALK       56628.0\n",
       "NWL       16718.0\n",
       "VNO       29692.0\n",
       "Name: Currentprice, Length: 495, dtype: float64"
      ]
     },
     "execution_count": 19,
     "metadata": {},
     "output_type": "execute_result"
    }
   ],
   "source": [
    "snp_comps.Currentprice.agg(lambda x: x * 1300)"
   ]
  },
  {
   "cell_type": "code",
   "execution_count": 20,
   "id": "66ee3055",
   "metadata": {},
   "outputs": [
    {
     "data": {
      "text/plain": [
       "Symbol\n",
       "AAPL     188539.0\n",
       "MSFT     286130.0\n",
       "GOOGL    113061.0\n",
       "GOOG     113191.0\n",
       "AMZN     119756.0\n",
       "           ...   \n",
       "XRAY      36634.0\n",
       "MHK      117611.0\n",
       "ALK       56628.0\n",
       "NWL       16718.0\n",
       "VNO       29692.0\n",
       "Name: Currentprice, Length: 495, dtype: float64"
      ]
     },
     "execution_count": 20,
     "metadata": {},
     "output_type": "execute_result"
    }
   ],
   "source": [
    "snp_comps.Currentprice.apply(lambda x: x * 1300)"
   ]
  },
  {
   "cell_type": "code",
   "execution_count": 21,
   "id": "8e0138fd",
   "metadata": {},
   "outputs": [
    {
     "data": {
      "text/plain": [
       "77780.035"
      ]
     },
     "execution_count": 21,
     "metadata": {},
     "output_type": "execute_result"
    }
   ],
   "source": [
    "snp_comps.Currentprice.agg(lambda x: x.sum())"
   ]
  },
  {
   "cell_type": "code",
   "execution_count": 22,
   "id": "e1ca5d23",
   "metadata": {},
   "outputs": [
    {
     "ename": "AttributeError",
     "evalue": "'float' object has no attribute 'sum'",
     "output_type": "error",
     "traceback": [
      "\u001b[1;31m---------------------------------------------------------------------------\u001b[0m",
      "\u001b[1;31mAttributeError\u001b[0m                            Traceback (most recent call last)",
      "\u001b[1;32m<ipython-input-22-a33620a9b796>\u001b[0m in \u001b[0;36m<module>\u001b[1;34m\u001b[0m\n\u001b[1;32m----> 1\u001b[1;33m \u001b[0msnp_comps\u001b[0m\u001b[1;33m.\u001b[0m\u001b[0mCurrentprice\u001b[0m\u001b[1;33m.\u001b[0m\u001b[0mapply\u001b[0m\u001b[1;33m(\u001b[0m\u001b[1;32mlambda\u001b[0m \u001b[0mx\u001b[0m\u001b[1;33m:\u001b[0m \u001b[0mx\u001b[0m\u001b[1;33m.\u001b[0m\u001b[0msum\u001b[0m\u001b[1;33m(\u001b[0m\u001b[1;33m)\u001b[0m\u001b[1;33m)\u001b[0m\u001b[1;33m\u001b[0m\u001b[1;33m\u001b[0m\u001b[0m\n\u001b[0m",
      "\u001b[1;32m~\\anaconda3\\lib\\site-packages\\pandas\\core\\series.py\u001b[0m in \u001b[0;36mapply\u001b[1;34m(self, func, convert_dtype, args, **kwds)\u001b[0m\n\u001b[0;32m   4136\u001b[0m             \u001b[1;32melse\u001b[0m\u001b[1;33m:\u001b[0m\u001b[1;33m\u001b[0m\u001b[1;33m\u001b[0m\u001b[0m\n\u001b[0;32m   4137\u001b[0m                 \u001b[0mvalues\u001b[0m \u001b[1;33m=\u001b[0m \u001b[0mself\u001b[0m\u001b[1;33m.\u001b[0m\u001b[0mastype\u001b[0m\u001b[1;33m(\u001b[0m\u001b[0mobject\u001b[0m\u001b[1;33m)\u001b[0m\u001b[1;33m.\u001b[0m\u001b[0m_values\u001b[0m\u001b[1;33m\u001b[0m\u001b[1;33m\u001b[0m\u001b[0m\n\u001b[1;32m-> 4138\u001b[1;33m                 \u001b[0mmapped\u001b[0m \u001b[1;33m=\u001b[0m \u001b[0mlib\u001b[0m\u001b[1;33m.\u001b[0m\u001b[0mmap_infer\u001b[0m\u001b[1;33m(\u001b[0m\u001b[0mvalues\u001b[0m\u001b[1;33m,\u001b[0m \u001b[0mf\u001b[0m\u001b[1;33m,\u001b[0m \u001b[0mconvert\u001b[0m\u001b[1;33m=\u001b[0m\u001b[0mconvert_dtype\u001b[0m\u001b[1;33m)\u001b[0m\u001b[1;33m\u001b[0m\u001b[1;33m\u001b[0m\u001b[0m\n\u001b[0m\u001b[0;32m   4139\u001b[0m \u001b[1;33m\u001b[0m\u001b[0m\n\u001b[0;32m   4140\u001b[0m         \u001b[1;32mif\u001b[0m \u001b[0mlen\u001b[0m\u001b[1;33m(\u001b[0m\u001b[0mmapped\u001b[0m\u001b[1;33m)\u001b[0m \u001b[1;32mand\u001b[0m \u001b[0misinstance\u001b[0m\u001b[1;33m(\u001b[0m\u001b[0mmapped\u001b[0m\u001b[1;33m[\u001b[0m\u001b[1;36m0\u001b[0m\u001b[1;33m]\u001b[0m\u001b[1;33m,\u001b[0m \u001b[0mSeries\u001b[0m\u001b[1;33m)\u001b[0m\u001b[1;33m:\u001b[0m\u001b[1;33m\u001b[0m\u001b[1;33m\u001b[0m\u001b[0m\n",
      "\u001b[1;32mpandas\\_libs\\lib.pyx\u001b[0m in \u001b[0;36mpandas._libs.lib.map_infer\u001b[1;34m()\u001b[0m\n",
      "\u001b[1;32m<ipython-input-22-a33620a9b796>\u001b[0m in \u001b[0;36m<lambda>\u001b[1;34m(x)\u001b[0m\n\u001b[1;32m----> 1\u001b[1;33m \u001b[0msnp_comps\u001b[0m\u001b[1;33m.\u001b[0m\u001b[0mCurrentprice\u001b[0m\u001b[1;33m.\u001b[0m\u001b[0mapply\u001b[0m\u001b[1;33m(\u001b[0m\u001b[1;32mlambda\u001b[0m \u001b[0mx\u001b[0m\u001b[1;33m:\u001b[0m \u001b[0mx\u001b[0m\u001b[1;33m.\u001b[0m\u001b[0msum\u001b[0m\u001b[1;33m(\u001b[0m\u001b[1;33m)\u001b[0m\u001b[1;33m)\u001b[0m\u001b[1;33m\u001b[0m\u001b[1;33m\u001b[0m\u001b[0m\n\u001b[0m",
      "\u001b[1;31mAttributeError\u001b[0m: 'float' object has no attribute 'sum'"
     ]
    }
   ],
   "source": [
    "snp_comps.Currentprice.apply(lambda x: x.sum())"
   ]
  },
  {
   "cell_type": "code",
   "execution_count": 24,
   "id": "6a5ca615",
   "metadata": {},
   "outputs": [],
   "source": [
    "def print_and_sum(x):\n",
    "    print(x)\n",
    "    return x.sum()"
   ]
  },
  {
   "cell_type": "code",
   "execution_count": 25,
   "id": "72ac50cf",
   "metadata": {},
   "outputs": [
    {
     "name": "stdout",
     "output_type": "stream",
     "text": [
      "145.03\n",
      "Symbol\n",
      "AAPL     145.03\n",
      "MSFT     220.10\n",
      "GOOGL     86.97\n",
      "GOOG      87.07\n",
      "AMZN      92.12\n",
      "          ...  \n",
      "XRAY      28.18\n",
      "MHK       90.47\n",
      "ALK       43.56\n",
      "NWL       12.86\n",
      "VNO       22.84\n",
      "Name: Currentprice, Length: 495, dtype: float64\n"
     ]
    },
    {
     "data": {
      "text/plain": [
       "77780.035"
      ]
     },
     "execution_count": 25,
     "metadata": {},
     "output_type": "execute_result"
    }
   ],
   "source": [
    "snp_comps.Currentprice.agg(print_and_sum)"
   ]
  },
  {
   "cell_type": "code",
   "execution_count": 26,
   "id": "106aa1c7",
   "metadata": {},
   "outputs": [
    {
     "name": "stdout",
     "output_type": "stream",
     "text": [
      "145.03\n"
     ]
    },
    {
     "ename": "AttributeError",
     "evalue": "'float' object has no attribute 'sum'",
     "output_type": "error",
     "traceback": [
      "\u001b[1;31m---------------------------------------------------------------------------\u001b[0m",
      "\u001b[1;31mAttributeError\u001b[0m                            Traceback (most recent call last)",
      "\u001b[1;32m<ipython-input-26-17cb0ec43d04>\u001b[0m in \u001b[0;36m<module>\u001b[1;34m\u001b[0m\n\u001b[1;32m----> 1\u001b[1;33m \u001b[0msnp_comps\u001b[0m\u001b[1;33m.\u001b[0m\u001b[0mCurrentprice\u001b[0m\u001b[1;33m.\u001b[0m\u001b[0mapply\u001b[0m\u001b[1;33m(\u001b[0m\u001b[0mprint_and_sum\u001b[0m\u001b[1;33m)\u001b[0m\u001b[1;33m\u001b[0m\u001b[1;33m\u001b[0m\u001b[0m\n\u001b[0m",
      "\u001b[1;32m~\\anaconda3\\lib\\site-packages\\pandas\\core\\series.py\u001b[0m in \u001b[0;36mapply\u001b[1;34m(self, func, convert_dtype, args, **kwds)\u001b[0m\n\u001b[0;32m   4136\u001b[0m             \u001b[1;32melse\u001b[0m\u001b[1;33m:\u001b[0m\u001b[1;33m\u001b[0m\u001b[1;33m\u001b[0m\u001b[0m\n\u001b[0;32m   4137\u001b[0m                 \u001b[0mvalues\u001b[0m \u001b[1;33m=\u001b[0m \u001b[0mself\u001b[0m\u001b[1;33m.\u001b[0m\u001b[0mastype\u001b[0m\u001b[1;33m(\u001b[0m\u001b[0mobject\u001b[0m\u001b[1;33m)\u001b[0m\u001b[1;33m.\u001b[0m\u001b[0m_values\u001b[0m\u001b[1;33m\u001b[0m\u001b[1;33m\u001b[0m\u001b[0m\n\u001b[1;32m-> 4138\u001b[1;33m                 \u001b[0mmapped\u001b[0m \u001b[1;33m=\u001b[0m \u001b[0mlib\u001b[0m\u001b[1;33m.\u001b[0m\u001b[0mmap_infer\u001b[0m\u001b[1;33m(\u001b[0m\u001b[0mvalues\u001b[0m\u001b[1;33m,\u001b[0m \u001b[0mf\u001b[0m\u001b[1;33m,\u001b[0m \u001b[0mconvert\u001b[0m\u001b[1;33m=\u001b[0m\u001b[0mconvert_dtype\u001b[0m\u001b[1;33m)\u001b[0m\u001b[1;33m\u001b[0m\u001b[1;33m\u001b[0m\u001b[0m\n\u001b[0m\u001b[0;32m   4139\u001b[0m \u001b[1;33m\u001b[0m\u001b[0m\n\u001b[0;32m   4140\u001b[0m         \u001b[1;32mif\u001b[0m \u001b[0mlen\u001b[0m\u001b[1;33m(\u001b[0m\u001b[0mmapped\u001b[0m\u001b[1;33m)\u001b[0m \u001b[1;32mand\u001b[0m \u001b[0misinstance\u001b[0m\u001b[1;33m(\u001b[0m\u001b[0mmapped\u001b[0m\u001b[1;33m[\u001b[0m\u001b[1;36m0\u001b[0m\u001b[1;33m]\u001b[0m\u001b[1;33m,\u001b[0m \u001b[0mSeries\u001b[0m\u001b[1;33m)\u001b[0m\u001b[1;33m:\u001b[0m\u001b[1;33m\u001b[0m\u001b[1;33m\u001b[0m\u001b[0m\n",
      "\u001b[1;32mpandas\\_libs\\lib.pyx\u001b[0m in \u001b[0;36mpandas._libs.lib.map_infer\u001b[1;34m()\u001b[0m\n",
      "\u001b[1;32m<ipython-input-24-22b3eb6386a6>\u001b[0m in \u001b[0;36mprint_and_sum\u001b[1;34m(x)\u001b[0m\n\u001b[0;32m      1\u001b[0m \u001b[1;32mdef\u001b[0m \u001b[0mprint_and_sum\u001b[0m\u001b[1;33m(\u001b[0m\u001b[0mx\u001b[0m\u001b[1;33m)\u001b[0m\u001b[1;33m:\u001b[0m\u001b[1;33m\u001b[0m\u001b[1;33m\u001b[0m\u001b[0m\n\u001b[0;32m      2\u001b[0m     \u001b[0mprint\u001b[0m\u001b[1;33m(\u001b[0m\u001b[0mx\u001b[0m\u001b[1;33m)\u001b[0m\u001b[1;33m\u001b[0m\u001b[1;33m\u001b[0m\u001b[0m\n\u001b[1;32m----> 3\u001b[1;33m     \u001b[1;32mreturn\u001b[0m \u001b[0mx\u001b[0m\u001b[1;33m.\u001b[0m\u001b[0msum\u001b[0m\u001b[1;33m(\u001b[0m\u001b[1;33m)\u001b[0m\u001b[1;33m\u001b[0m\u001b[1;33m\u001b[0m\u001b[0m\n\u001b[0m",
      "\u001b[1;31mAttributeError\u001b[0m: 'float' object has no attribute 'sum'"
     ]
    }
   ],
   "source": [
    "snp_comps.Currentprice.apply(print_and_sum)"
   ]
  },
  {
   "cell_type": "markdown",
   "id": "c84f4327",
   "metadata": {},
   "source": [
    "###  pd.transform : 여러 개의 함수를 동시에 적용. 그러나 input series와 동일한 구조(index)의 output 출력만 가능"
   ]
  },
  {
   "cell_type": "code",
   "execution_count": 27,
   "id": "9156a4e1",
   "metadata": {},
   "outputs": [
    {
     "data": {
      "text/html": [
       "<div>\n",
       "<style scoped>\n",
       "    .dataframe tbody tr th:only-of-type {\n",
       "        vertical-align: middle;\n",
       "    }\n",
       "\n",
       "    .dataframe tbody tr th {\n",
       "        vertical-align: top;\n",
       "    }\n",
       "\n",
       "    .dataframe thead th {\n",
       "        text-align: right;\n",
       "    }\n",
       "</style>\n",
       "<table border=\"1\" class=\"dataframe\">\n",
       "  <thead>\n",
       "    <tr style=\"text-align: right;\">\n",
       "      <th></th>\n",
       "      <th>&lt;lambda&gt;</th>\n",
       "    </tr>\n",
       "    <tr>\n",
       "      <th>Symbol</th>\n",
       "      <th></th>\n",
       "    </tr>\n",
       "  </thead>\n",
       "  <tbody>\n",
       "    <tr>\n",
       "      <th>AAPL</th>\n",
       "      <td>203042.0</td>\n",
       "    </tr>\n",
       "    <tr>\n",
       "      <th>MSFT</th>\n",
       "      <td>308140.0</td>\n",
       "    </tr>\n",
       "    <tr>\n",
       "      <th>GOOGL</th>\n",
       "      <td>121758.0</td>\n",
       "    </tr>\n",
       "    <tr>\n",
       "      <th>GOOG</th>\n",
       "      <td>121898.0</td>\n",
       "    </tr>\n",
       "    <tr>\n",
       "      <th>AMZN</th>\n",
       "      <td>128968.0</td>\n",
       "    </tr>\n",
       "    <tr>\n",
       "      <th>...</th>\n",
       "      <td>...</td>\n",
       "    </tr>\n",
       "    <tr>\n",
       "      <th>XRAY</th>\n",
       "      <td>39452.0</td>\n",
       "    </tr>\n",
       "    <tr>\n",
       "      <th>MHK</th>\n",
       "      <td>126658.0</td>\n",
       "    </tr>\n",
       "    <tr>\n",
       "      <th>ALK</th>\n",
       "      <td>60984.0</td>\n",
       "    </tr>\n",
       "    <tr>\n",
       "      <th>NWL</th>\n",
       "      <td>18004.0</td>\n",
       "    </tr>\n",
       "    <tr>\n",
       "      <th>VNO</th>\n",
       "      <td>31976.0</td>\n",
       "    </tr>\n",
       "  </tbody>\n",
       "</table>\n",
       "<p>495 rows × 1 columns</p>\n",
       "</div>"
      ],
      "text/plain": [
       "        <lambda>\n",
       "Symbol          \n",
       "AAPL    203042.0\n",
       "MSFT    308140.0\n",
       "GOOGL   121758.0\n",
       "GOOG    121898.0\n",
       "AMZN    128968.0\n",
       "...          ...\n",
       "XRAY     39452.0\n",
       "MHK     126658.0\n",
       "ALK      60984.0\n",
       "NWL      18004.0\n",
       "VNO      31976.0\n",
       "\n",
       "[495 rows x 1 columns]"
      ]
     },
     "execution_count": 27,
     "metadata": {},
     "output_type": "execute_result"
    }
   ],
   "source": [
    "snp_comps.Currentprice.transform([lambda x: x * 1300, lambda x: x * 1400])"
   ]
  },
  {
   "cell_type": "code",
   "execution_count": 28,
   "id": "a38dc699",
   "metadata": {},
   "outputs": [
    {
     "ename": "ValueError",
     "evalue": "Function did not transform",
     "output_type": "error",
     "traceback": [
      "\u001b[1;31m---------------------------------------------------------------------------\u001b[0m",
      "\u001b[1;31mValueError\u001b[0m                                Traceback (most recent call last)",
      "\u001b[1;32m<ipython-input-28-63050f095336>\u001b[0m in \u001b[0;36m<module>\u001b[1;34m\u001b[0m\n\u001b[1;32m----> 1\u001b[1;33m \u001b[0msnp_comps\u001b[0m\u001b[1;33m.\u001b[0m\u001b[0mCurrentprice\u001b[0m\u001b[1;33m.\u001b[0m\u001b[0mtransform\u001b[0m\u001b[1;33m(\u001b[0m\u001b[1;33m[\u001b[0m\u001b[1;32mlambda\u001b[0m \u001b[0mx\u001b[0m\u001b[1;33m:\u001b[0m \u001b[0mx\u001b[0m\u001b[1;33m.\u001b[0m\u001b[0mmean\u001b[0m\u001b[1;33m(\u001b[0m\u001b[1;33m)\u001b[0m\u001b[1;33m]\u001b[0m\u001b[1;33m)\u001b[0m\u001b[1;33m\u001b[0m\u001b[1;33m\u001b[0m\u001b[0m\n\u001b[0m",
      "\u001b[1;32m~\\anaconda3\\lib\\site-packages\\pandas\\core\\series.py\u001b[0m in \u001b[0;36mtransform\u001b[1;34m(self, func, axis, *args, **kwargs)\u001b[0m\n\u001b[0;32m   4005\u001b[0m         \u001b[0mself\u001b[0m\u001b[1;33m,\u001b[0m \u001b[0mfunc\u001b[0m\u001b[1;33m:\u001b[0m \u001b[0mAggFuncType\u001b[0m\u001b[1;33m,\u001b[0m \u001b[0maxis\u001b[0m\u001b[1;33m:\u001b[0m \u001b[0mAxis\u001b[0m \u001b[1;33m=\u001b[0m \u001b[1;36m0\u001b[0m\u001b[1;33m,\u001b[0m \u001b[1;33m*\u001b[0m\u001b[0margs\u001b[0m\u001b[1;33m,\u001b[0m \u001b[1;33m**\u001b[0m\u001b[0mkwargs\u001b[0m\u001b[1;33m\u001b[0m\u001b[1;33m\u001b[0m\u001b[0m\n\u001b[0;32m   4006\u001b[0m     ) -> FrameOrSeriesUnion:\n\u001b[1;32m-> 4007\u001b[1;33m         \u001b[1;32mreturn\u001b[0m \u001b[0mtransform\u001b[0m\u001b[1;33m(\u001b[0m\u001b[0mself\u001b[0m\u001b[1;33m,\u001b[0m \u001b[0mfunc\u001b[0m\u001b[1;33m,\u001b[0m \u001b[0maxis\u001b[0m\u001b[1;33m,\u001b[0m \u001b[1;33m*\u001b[0m\u001b[0margs\u001b[0m\u001b[1;33m,\u001b[0m \u001b[1;33m**\u001b[0m\u001b[0mkwargs\u001b[0m\u001b[1;33m)\u001b[0m\u001b[1;33m\u001b[0m\u001b[1;33m\u001b[0m\u001b[0m\n\u001b[0m\u001b[0;32m   4008\u001b[0m \u001b[1;33m\u001b[0m\u001b[0m\n\u001b[0;32m   4009\u001b[0m     \u001b[1;32mdef\u001b[0m \u001b[0mapply\u001b[0m\u001b[1;33m(\u001b[0m\u001b[0mself\u001b[0m\u001b[1;33m,\u001b[0m \u001b[0mfunc\u001b[0m\u001b[1;33m,\u001b[0m \u001b[0mconvert_dtype\u001b[0m\u001b[1;33m=\u001b[0m\u001b[1;32mTrue\u001b[0m\u001b[1;33m,\u001b[0m \u001b[0margs\u001b[0m\u001b[1;33m=\u001b[0m\u001b[1;33m(\u001b[0m\u001b[1;33m)\u001b[0m\u001b[1;33m,\u001b[0m \u001b[1;33m**\u001b[0m\u001b[0mkwds\u001b[0m\u001b[1;33m)\u001b[0m\u001b[1;33m:\u001b[0m\u001b[1;33m\u001b[0m\u001b[1;33m\u001b[0m\u001b[0m\n",
      "\u001b[1;32m~\\anaconda3\\lib\\site-packages\\pandas\\core\\aggregation.py\u001b[0m in \u001b[0;36mtransform\u001b[1;34m(obj, func, axis, *args, **kwargs)\u001b[0m\n\u001b[0;32m    446\u001b[0m     \u001b[1;32mif\u001b[0m \u001b[0mis_dict_like\u001b[0m\u001b[1;33m(\u001b[0m\u001b[0mfunc\u001b[0m\u001b[1;33m)\u001b[0m\u001b[1;33m:\u001b[0m\u001b[1;33m\u001b[0m\u001b[1;33m\u001b[0m\u001b[0m\n\u001b[0;32m    447\u001b[0m         \u001b[0mfunc\u001b[0m \u001b[1;33m=\u001b[0m \u001b[0mcast\u001b[0m\u001b[1;33m(\u001b[0m\u001b[0mAggFuncTypeDict\u001b[0m\u001b[1;33m,\u001b[0m \u001b[0mfunc\u001b[0m\u001b[1;33m)\u001b[0m\u001b[1;33m\u001b[0m\u001b[1;33m\u001b[0m\u001b[0m\n\u001b[1;32m--> 448\u001b[1;33m         \u001b[1;32mreturn\u001b[0m \u001b[0mtransform_dict_like\u001b[0m\u001b[1;33m(\u001b[0m\u001b[0mobj\u001b[0m\u001b[1;33m,\u001b[0m \u001b[0mfunc\u001b[0m\u001b[1;33m,\u001b[0m \u001b[1;33m*\u001b[0m\u001b[0margs\u001b[0m\u001b[1;33m,\u001b[0m \u001b[1;33m**\u001b[0m\u001b[0mkwargs\u001b[0m\u001b[1;33m)\u001b[0m\u001b[1;33m\u001b[0m\u001b[1;33m\u001b[0m\u001b[0m\n\u001b[0m\u001b[0;32m    449\u001b[0m \u001b[1;33m\u001b[0m\u001b[0m\n\u001b[0;32m    450\u001b[0m     \u001b[1;31m# func is either str or callable\u001b[0m\u001b[1;33m\u001b[0m\u001b[1;33m\u001b[0m\u001b[1;33m\u001b[0m\u001b[0m\n",
      "\u001b[1;32m~\\anaconda3\\lib\\site-packages\\pandas\\core\\aggregation.py\u001b[0m in \u001b[0;36mtransform_dict_like\u001b[1;34m(obj, func, *args, **kwargs)\u001b[0m\n\u001b[0;32m    518\u001b[0m                 \u001b[1;32mor\u001b[0m \u001b[0mstr\u001b[0m\u001b[1;33m(\u001b[0m\u001b[0merr\u001b[0m\u001b[1;33m)\u001b[0m \u001b[1;33m==\u001b[0m \u001b[1;34m\"No transform functions were provided\"\u001b[0m\u001b[1;33m\u001b[0m\u001b[1;33m\u001b[0m\u001b[0m\n\u001b[0;32m    519\u001b[0m             ):\n\u001b[1;32m--> 520\u001b[1;33m                 \u001b[1;32mraise\u001b[0m \u001b[0merr\u001b[0m\u001b[1;33m\u001b[0m\u001b[1;33m\u001b[0m\u001b[0m\n\u001b[0m\u001b[0;32m    521\u001b[0m \u001b[1;33m\u001b[0m\u001b[0m\n\u001b[0;32m    522\u001b[0m     \u001b[1;31m# combine results\u001b[0m\u001b[1;33m\u001b[0m\u001b[1;33m\u001b[0m\u001b[1;33m\u001b[0m\u001b[0m\n",
      "\u001b[1;32m~\\anaconda3\\lib\\site-packages\\pandas\\core\\aggregation.py\u001b[0m in \u001b[0;36mtransform_dict_like\u001b[1;34m(obj, func, *args, **kwargs)\u001b[0m\n\u001b[0;32m    512\u001b[0m         \u001b[0mcolg\u001b[0m \u001b[1;33m=\u001b[0m \u001b[0mobj\u001b[0m\u001b[1;33m.\u001b[0m\u001b[0m_gotitem\u001b[0m\u001b[1;33m(\u001b[0m\u001b[0mname\u001b[0m\u001b[1;33m,\u001b[0m \u001b[0mndim\u001b[0m\u001b[1;33m=\u001b[0m\u001b[1;36m1\u001b[0m\u001b[1;33m)\u001b[0m\u001b[1;33m\u001b[0m\u001b[1;33m\u001b[0m\u001b[0m\n\u001b[0;32m    513\u001b[0m         \u001b[1;32mtry\u001b[0m\u001b[1;33m:\u001b[0m\u001b[1;33m\u001b[0m\u001b[1;33m\u001b[0m\u001b[0m\n\u001b[1;32m--> 514\u001b[1;33m             \u001b[0mresults\u001b[0m\u001b[1;33m[\u001b[0m\u001b[0mname\u001b[0m\u001b[1;33m]\u001b[0m \u001b[1;33m=\u001b[0m \u001b[0mtransform\u001b[0m\u001b[1;33m(\u001b[0m\u001b[0mcolg\u001b[0m\u001b[1;33m,\u001b[0m \u001b[0mhow\u001b[0m\u001b[1;33m,\u001b[0m \u001b[1;36m0\u001b[0m\u001b[1;33m,\u001b[0m \u001b[1;33m*\u001b[0m\u001b[0margs\u001b[0m\u001b[1;33m,\u001b[0m \u001b[1;33m**\u001b[0m\u001b[0mkwargs\u001b[0m\u001b[1;33m)\u001b[0m\u001b[1;33m\u001b[0m\u001b[1;33m\u001b[0m\u001b[0m\n\u001b[0m\u001b[0;32m    515\u001b[0m         \u001b[1;32mexcept\u001b[0m \u001b[0mException\u001b[0m \u001b[1;32mas\u001b[0m \u001b[0merr\u001b[0m\u001b[1;33m:\u001b[0m\u001b[1;33m\u001b[0m\u001b[1;33m\u001b[0m\u001b[0m\n\u001b[0;32m    516\u001b[0m             if (\n",
      "\u001b[1;32m~\\anaconda3\\lib\\site-packages\\pandas\\core\\aggregation.py\u001b[0m in \u001b[0;36mtransform\u001b[1;34m(obj, func, axis, *args, **kwargs)\u001b[0m\n\u001b[0;32m    462\u001b[0m         \u001b[0mobj\u001b[0m\u001b[1;33m.\u001b[0m\u001b[0mindex\u001b[0m\u001b[1;33m\u001b[0m\u001b[1;33m\u001b[0m\u001b[0m\n\u001b[0;32m    463\u001b[0m     ):\n\u001b[1;32m--> 464\u001b[1;33m         \u001b[1;32mraise\u001b[0m \u001b[0mValueError\u001b[0m\u001b[1;33m(\u001b[0m\u001b[1;34m\"Function did not transform\"\u001b[0m\u001b[1;33m)\u001b[0m\u001b[1;33m\u001b[0m\u001b[1;33m\u001b[0m\u001b[0m\n\u001b[0m\u001b[0;32m    465\u001b[0m \u001b[1;33m\u001b[0m\u001b[0m\n\u001b[0;32m    466\u001b[0m     \u001b[1;32mreturn\u001b[0m \u001b[0mresult\u001b[0m\u001b[1;33m\u001b[0m\u001b[1;33m\u001b[0m\u001b[0m\n",
      "\u001b[1;31mValueError\u001b[0m: Function did not transform"
     ]
    }
   ],
   "source": [
    "snp_comps.Currentprice.transform([lambda x: x.mean()])"
   ]
  },
  {
   "cell_type": "markdown",
   "id": "63261fa5",
   "metadata": {},
   "source": [
    "### 여러 함수를 적용하는 경우, agg 함수만 사용해도 무방 "
   ]
  },
  {
   "cell_type": "markdown",
   "id": "a96d2ad9",
   "metadata": {},
   "source": [
    "### series.groupby :  index를 기준으로 그룹핑하여 각 그룹별로 함수 적용"
   ]
  },
  {
   "cell_type": "code",
   "execution_count": 29,
   "id": "174b74bf",
   "metadata": {},
   "outputs": [],
   "source": [
    "snp_comps = snp_comps.set_index('Sector', append=True)"
   ]
  },
  {
   "cell_type": "code",
   "execution_count": 30,
   "id": "4c9037a4",
   "metadata": {},
   "outputs": [
    {
     "data": {
      "text/html": [
       "<div>\n",
       "<style scoped>\n",
       "    .dataframe tbody tr th:only-of-type {\n",
       "        vertical-align: middle;\n",
       "    }\n",
       "\n",
       "    .dataframe tbody tr th {\n",
       "        vertical-align: top;\n",
       "    }\n",
       "\n",
       "    .dataframe thead th {\n",
       "        text-align: right;\n",
       "    }\n",
       "</style>\n",
       "<table border=\"1\" class=\"dataframe\">\n",
       "  <thead>\n",
       "    <tr style=\"text-align: right;\">\n",
       "      <th></th>\n",
       "      <th></th>\n",
       "      <th>Exchange</th>\n",
       "      <th>Shortname</th>\n",
       "      <th>Longname</th>\n",
       "      <th>Industry</th>\n",
       "      <th>Currentprice</th>\n",
       "      <th>Marketcap</th>\n",
       "      <th>Ebitda</th>\n",
       "      <th>Revenuegrowth</th>\n",
       "      <th>City</th>\n",
       "      <th>State</th>\n",
       "      <th>Country</th>\n",
       "      <th>Fulltimeemployees</th>\n",
       "      <th>Longbusinesssummary</th>\n",
       "      <th>Weight</th>\n",
       "      <th>ExchangeSymbol</th>\n",
       "    </tr>\n",
       "    <tr>\n",
       "      <th>Symbol</th>\n",
       "      <th>Sector</th>\n",
       "      <th></th>\n",
       "      <th></th>\n",
       "      <th></th>\n",
       "      <th></th>\n",
       "      <th></th>\n",
       "      <th></th>\n",
       "      <th></th>\n",
       "      <th></th>\n",
       "      <th></th>\n",
       "      <th></th>\n",
       "      <th></th>\n",
       "      <th></th>\n",
       "      <th></th>\n",
       "      <th></th>\n",
       "      <th></th>\n",
       "    </tr>\n",
       "  </thead>\n",
       "  <tbody>\n",
       "    <tr>\n",
       "      <th>AAPL</th>\n",
       "      <th>Technology</th>\n",
       "      <td>NMS</td>\n",
       "      <td>Apple Inc.</td>\n",
       "      <td>Apple Inc.</td>\n",
       "      <td>Consumer Electronics</td>\n",
       "      <td>145.03</td>\n",
       "      <td>2307151626240</td>\n",
       "      <td>1.305410e+11</td>\n",
       "      <td>0.081</td>\n",
       "      <td>Cupertino</td>\n",
       "      <td>CA</td>\n",
       "      <td>United States</td>\n",
       "      <td>164000.0</td>\n",
       "      <td>Apple Inc. designs, manufactures, and markets ...</td>\n",
       "      <td>0.069090</td>\n",
       "      <td>UW</td>\n",
       "    </tr>\n",
       "    <tr>\n",
       "      <th>MSFT</th>\n",
       "      <th>Technology</th>\n",
       "      <td>NMS</td>\n",
       "      <td>Microsoft Corporation</td>\n",
       "      <td>Microsoft Corporation</td>\n",
       "      <td>Software—Infrastructure</td>\n",
       "      <td>220.10</td>\n",
       "      <td>1652506361856</td>\n",
       "      <td>9.798300e+10</td>\n",
       "      <td>0.124</td>\n",
       "      <td>Redmond</td>\n",
       "      <td>WA</td>\n",
       "      <td>United States</td>\n",
       "      <td>221000.0</td>\n",
       "      <td>Microsoft Corporation develops, licenses, and ...</td>\n",
       "      <td>0.049486</td>\n",
       "      <td>UW</td>\n",
       "    </tr>\n",
       "    <tr>\n",
       "      <th>GOOGL</th>\n",
       "      <th>Communication Services</th>\n",
       "      <td>NMS</td>\n",
       "      <td>Alphabet Inc.</td>\n",
       "      <td>Alphabet Inc.</td>\n",
       "      <td>Internet Content &amp; Information</td>\n",
       "      <td>86.97</td>\n",
       "      <td>1126496337920</td>\n",
       "      <td>9.373300e+10</td>\n",
       "      <td>0.061</td>\n",
       "      <td>Mountain View</td>\n",
       "      <td>CA</td>\n",
       "      <td>United States</td>\n",
       "      <td>186779.0</td>\n",
       "      <td>Alphabet Inc. provides various products and pl...</td>\n",
       "      <td>0.033734</td>\n",
       "      <td>UW</td>\n",
       "    </tr>\n",
       "    <tr>\n",
       "      <th>GOOG</th>\n",
       "      <th>Communication Services</th>\n",
       "      <td>NMS</td>\n",
       "      <td>Alphabet Inc.</td>\n",
       "      <td>Alphabet Inc.</td>\n",
       "      <td>Internet Content &amp; Information</td>\n",
       "      <td>87.07</td>\n",
       "      <td>1125998002176</td>\n",
       "      <td>9.373300e+10</td>\n",
       "      <td>0.061</td>\n",
       "      <td>Mountain View</td>\n",
       "      <td>CA</td>\n",
       "      <td>United States</td>\n",
       "      <td>186779.0</td>\n",
       "      <td>Alphabet Inc. provides various products and pl...</td>\n",
       "      <td>0.033719</td>\n",
       "      <td>UW</td>\n",
       "    </tr>\n",
       "    <tr>\n",
       "      <th>AMZN</th>\n",
       "      <th>Consumer Cyclical</th>\n",
       "      <td>NMS</td>\n",
       "      <td>Amazon.com, Inc.</td>\n",
       "      <td>Amazon.com, Inc.</td>\n",
       "      <td>Internet Retail</td>\n",
       "      <td>92.12</td>\n",
       "      <td>939780669440</td>\n",
       "      <td>5.154900e+10</td>\n",
       "      <td>0.147</td>\n",
       "      <td>Seattle</td>\n",
       "      <td>WA</td>\n",
       "      <td>United States</td>\n",
       "      <td>1544000.0</td>\n",
       "      <td>Amazon.com, Inc. engages in the retail sale of...</td>\n",
       "      <td>0.028143</td>\n",
       "      <td>UW</td>\n",
       "    </tr>\n",
       "    <tr>\n",
       "      <th>...</th>\n",
       "      <th>...</th>\n",
       "      <td>...</td>\n",
       "      <td>...</td>\n",
       "      <td>...</td>\n",
       "      <td>...</td>\n",
       "      <td>...</td>\n",
       "      <td>...</td>\n",
       "      <td>...</td>\n",
       "      <td>...</td>\n",
       "      <td>...</td>\n",
       "      <td>...</td>\n",
       "      <td>...</td>\n",
       "      <td>...</td>\n",
       "      <td>...</td>\n",
       "      <td>...</td>\n",
       "      <td>...</td>\n",
       "    </tr>\n",
       "    <tr>\n",
       "      <th>XRAY</th>\n",
       "      <th>Healthcare</th>\n",
       "      <td>NMS</td>\n",
       "      <td>DENTSPLY SIRONA Inc.</td>\n",
       "      <td>DENTSPLY SIRONA Inc.</td>\n",
       "      <td>Medical Instruments &amp; Supplies</td>\n",
       "      <td>28.18</td>\n",
       "      <td>6160345600</td>\n",
       "      <td>9.170000e+08</td>\n",
       "      <td>-0.060</td>\n",
       "      <td>Charlotte</td>\n",
       "      <td>NC</td>\n",
       "      <td>United States</td>\n",
       "      <td>15000.0</td>\n",
       "      <td>DENTSPLY SIRONA Inc. manufactures and sells va...</td>\n",
       "      <td>0.000184</td>\n",
       "      <td>UW</td>\n",
       "    </tr>\n",
       "    <tr>\n",
       "      <th>MHK</th>\n",
       "      <th>Consumer Cyclical</th>\n",
       "      <td>NYQ</td>\n",
       "      <td>Mohawk Industries, Inc.</td>\n",
       "      <td>Mohawk Industries, Inc.</td>\n",
       "      <td>Furnishings, Fixtures &amp; Appliances</td>\n",
       "      <td>90.47</td>\n",
       "      <td>6127750144</td>\n",
       "      <td>1.888004e+09</td>\n",
       "      <td>0.067</td>\n",
       "      <td>Calhoun</td>\n",
       "      <td>GA</td>\n",
       "      <td>United States</td>\n",
       "      <td>43000.0</td>\n",
       "      <td>Mohawk Industries, Inc. designs, manufactures,...</td>\n",
       "      <td>0.000184</td>\n",
       "      <td>UN</td>\n",
       "    </tr>\n",
       "    <tr>\n",
       "      <th>ALK</th>\n",
       "      <th>Industrials</th>\n",
       "      <td>NYQ</td>\n",
       "      <td>Alaska Air Group, Inc.</td>\n",
       "      <td>Alaska Air Group, Inc.</td>\n",
       "      <td>Airlines</td>\n",
       "      <td>43.56</td>\n",
       "      <td>5524889088</td>\n",
       "      <td>1.073000e+09</td>\n",
       "      <td>0.448</td>\n",
       "      <td>Seattle</td>\n",
       "      <td>WA</td>\n",
       "      <td>United States</td>\n",
       "      <td>22354.0</td>\n",
       "      <td>Alaska Air Group, Inc., through its subsidiari...</td>\n",
       "      <td>0.000165</td>\n",
       "      <td>UN</td>\n",
       "    </tr>\n",
       "    <tr>\n",
       "      <th>NWL</th>\n",
       "      <th>Consumer Defensive</th>\n",
       "      <td>NMS</td>\n",
       "      <td>Newell Brands Inc.</td>\n",
       "      <td>Newell Brands Inc.</td>\n",
       "      <td>Household &amp; Personal Products</td>\n",
       "      <td>12.86</td>\n",
       "      <td>5470643712</td>\n",
       "      <td>1.390000e+09</td>\n",
       "      <td>-0.065</td>\n",
       "      <td>Atlanta</td>\n",
       "      <td>GA</td>\n",
       "      <td>United States</td>\n",
       "      <td>32000.0</td>\n",
       "      <td>Newell Brands Inc. designs, manufactures, sour...</td>\n",
       "      <td>0.000164</td>\n",
       "      <td>UW</td>\n",
       "    </tr>\n",
       "    <tr>\n",
       "      <th>VNO</th>\n",
       "      <th>Real Estate</th>\n",
       "      <td>NYQ</td>\n",
       "      <td>Vornado Realty Trust</td>\n",
       "      <td>Vornado Realty Trust</td>\n",
       "      <td>REIT—Office</td>\n",
       "      <td>22.84</td>\n",
       "      <td>4377993728</td>\n",
       "      <td>8.103430e+08</td>\n",
       "      <td>0.163</td>\n",
       "      <td>New York</td>\n",
       "      <td>NY</td>\n",
       "      <td>United States</td>\n",
       "      <td>3224.0</td>\n",
       "      <td>Vornado's portfolio is concentrated in the nat...</td>\n",
       "      <td>0.000131</td>\n",
       "      <td>UN</td>\n",
       "    </tr>\n",
       "  </tbody>\n",
       "</table>\n",
       "<p>495 rows × 15 columns</p>\n",
       "</div>"
      ],
      "text/plain": [
       "                              Exchange                Shortname  \\\n",
       "Symbol Sector                                                     \n",
       "AAPL   Technology                  NMS               Apple Inc.   \n",
       "MSFT   Technology                  NMS    Microsoft Corporation   \n",
       "GOOGL  Communication Services      NMS            Alphabet Inc.   \n",
       "GOOG   Communication Services      NMS            Alphabet Inc.   \n",
       "AMZN   Consumer Cyclical           NMS         Amazon.com, Inc.   \n",
       "...                                ...                      ...   \n",
       "XRAY   Healthcare                  NMS     DENTSPLY SIRONA Inc.   \n",
       "MHK    Consumer Cyclical           NYQ  Mohawk Industries, Inc.   \n",
       "ALK    Industrials                 NYQ   Alaska Air Group, Inc.   \n",
       "NWL    Consumer Defensive          NMS       Newell Brands Inc.   \n",
       "VNO    Real Estate                 NYQ     Vornado Realty Trust   \n",
       "\n",
       "                                              Longname  \\\n",
       "Symbol Sector                                            \n",
       "AAPL   Technology                           Apple Inc.   \n",
       "MSFT   Technology                Microsoft Corporation   \n",
       "GOOGL  Communication Services            Alphabet Inc.   \n",
       "GOOG   Communication Services            Alphabet Inc.   \n",
       "AMZN   Consumer Cyclical              Amazon.com, Inc.   \n",
       "...                                                ...   \n",
       "XRAY   Healthcare                 DENTSPLY SIRONA Inc.   \n",
       "MHK    Consumer Cyclical       Mohawk Industries, Inc.   \n",
       "ALK    Industrials              Alaska Air Group, Inc.   \n",
       "NWL    Consumer Defensive           Newell Brands Inc.   \n",
       "VNO    Real Estate                Vornado Realty Trust   \n",
       "\n",
       "                                                         Industry  \\\n",
       "Symbol Sector                                                       \n",
       "AAPL   Technology                            Consumer Electronics   \n",
       "MSFT   Technology                         Software—Infrastructure   \n",
       "GOOGL  Communication Services      Internet Content & Information   \n",
       "GOOG   Communication Services      Internet Content & Information   \n",
       "AMZN   Consumer Cyclical                          Internet Retail   \n",
       "...                                                           ...   \n",
       "XRAY   Healthcare                  Medical Instruments & Supplies   \n",
       "MHK    Consumer Cyclical       Furnishings, Fixtures & Appliances   \n",
       "ALK    Industrials                                       Airlines   \n",
       "NWL    Consumer Defensive           Household & Personal Products   \n",
       "VNO    Real Estate                                    REIT—Office   \n",
       "\n",
       "                               Currentprice      Marketcap        Ebitda  \\\n",
       "Symbol Sector                                                              \n",
       "AAPL   Technology                    145.03  2307151626240  1.305410e+11   \n",
       "MSFT   Technology                    220.10  1652506361856  9.798300e+10   \n",
       "GOOGL  Communication Services         86.97  1126496337920  9.373300e+10   \n",
       "GOOG   Communication Services         87.07  1125998002176  9.373300e+10   \n",
       "AMZN   Consumer Cyclical              92.12   939780669440  5.154900e+10   \n",
       "...                                     ...            ...           ...   \n",
       "XRAY   Healthcare                     28.18     6160345600  9.170000e+08   \n",
       "MHK    Consumer Cyclical              90.47     6127750144  1.888004e+09   \n",
       "ALK    Industrials                    43.56     5524889088  1.073000e+09   \n",
       "NWL    Consumer Defensive             12.86     5470643712  1.390000e+09   \n",
       "VNO    Real Estate                    22.84     4377993728  8.103430e+08   \n",
       "\n",
       "                               Revenuegrowth           City State  \\\n",
       "Symbol Sector                                                       \n",
       "AAPL   Technology                      0.081      Cupertino    CA   \n",
       "MSFT   Technology                      0.124        Redmond    WA   \n",
       "GOOGL  Communication Services          0.061  Mountain View    CA   \n",
       "GOOG   Communication Services          0.061  Mountain View    CA   \n",
       "AMZN   Consumer Cyclical               0.147        Seattle    WA   \n",
       "...                                      ...            ...   ...   \n",
       "XRAY   Healthcare                     -0.060      Charlotte    NC   \n",
       "MHK    Consumer Cyclical               0.067        Calhoun    GA   \n",
       "ALK    Industrials                     0.448        Seattle    WA   \n",
       "NWL    Consumer Defensive             -0.065        Atlanta    GA   \n",
       "VNO    Real Estate                     0.163       New York    NY   \n",
       "\n",
       "                                     Country  Fulltimeemployees  \\\n",
       "Symbol Sector                                                     \n",
       "AAPL   Technology              United States           164000.0   \n",
       "MSFT   Technology              United States           221000.0   \n",
       "GOOGL  Communication Services  United States           186779.0   \n",
       "GOOG   Communication Services  United States           186779.0   \n",
       "AMZN   Consumer Cyclical       United States          1544000.0   \n",
       "...                                      ...                ...   \n",
       "XRAY   Healthcare              United States            15000.0   \n",
       "MHK    Consumer Cyclical       United States            43000.0   \n",
       "ALK    Industrials             United States            22354.0   \n",
       "NWL    Consumer Defensive      United States            32000.0   \n",
       "VNO    Real Estate             United States             3224.0   \n",
       "\n",
       "                                                             Longbusinesssummary  \\\n",
       "Symbol Sector                                                                      \n",
       "AAPL   Technology              Apple Inc. designs, manufactures, and markets ...   \n",
       "MSFT   Technology              Microsoft Corporation develops, licenses, and ...   \n",
       "GOOGL  Communication Services  Alphabet Inc. provides various products and pl...   \n",
       "GOOG   Communication Services  Alphabet Inc. provides various products and pl...   \n",
       "AMZN   Consumer Cyclical       Amazon.com, Inc. engages in the retail sale of...   \n",
       "...                                                                          ...   \n",
       "XRAY   Healthcare              DENTSPLY SIRONA Inc. manufactures and sells va...   \n",
       "MHK    Consumer Cyclical       Mohawk Industries, Inc. designs, manufactures,...   \n",
       "ALK    Industrials             Alaska Air Group, Inc., through its subsidiari...   \n",
       "NWL    Consumer Defensive      Newell Brands Inc. designs, manufactures, sour...   \n",
       "VNO    Real Estate             Vornado's portfolio is concentrated in the nat...   \n",
       "\n",
       "                                 Weight ExchangeSymbol  \n",
       "Symbol Sector                                           \n",
       "AAPL   Technology              0.069090             UW  \n",
       "MSFT   Technology              0.049486             UW  \n",
       "GOOGL  Communication Services  0.033734             UW  \n",
       "GOOG   Communication Services  0.033719             UW  \n",
       "AMZN   Consumer Cyclical       0.028143             UW  \n",
       "...                                 ...            ...  \n",
       "XRAY   Healthcare              0.000184             UW  \n",
       "MHK    Consumer Cyclical       0.000184             UN  \n",
       "ALK    Industrials             0.000165             UN  \n",
       "NWL    Consumer Defensive      0.000164             UW  \n",
       "VNO    Real Estate             0.000131             UN  \n",
       "\n",
       "[495 rows x 15 columns]"
      ]
     },
     "execution_count": 30,
     "metadata": {},
     "output_type": "execute_result"
    }
   ],
   "source": [
    "snp_comps"
   ]
  },
  {
   "cell_type": "code",
   "execution_count": 31,
   "id": "e77172af",
   "metadata": {},
   "outputs": [
    {
     "data": {
      "text/plain": [
       "Sector\n",
       "Basic Materials           0.001078\n",
       "Communication Services    0.004723\n",
       "Consumer Cyclical         0.001608\n",
       "Consumer Defensive        0.002273\n",
       "Energy                    0.002346\n",
       "Financial Services        0.001919\n",
       "Healthcare                0.002307\n",
       "Industrials               0.001222\n",
       "Real Estate               0.000791\n",
       "Technology                0.003191\n",
       "Utilities                 0.000967\n",
       "Name: Weight, dtype: float64"
      ]
     },
     "execution_count": 31,
     "metadata": {},
     "output_type": "execute_result"
    }
   ],
   "source": [
    "snp_comps.Weight.groupby(level=1).mean()"
   ]
  },
  {
   "cell_type": "markdown",
   "id": "c6c778d3",
   "metadata": {},
   "source": [
    "### series.rolling / series.expanding : window에 따라 함수 적용"
   ]
  },
  {
   "cell_type": "code",
   "execution_count": 32,
   "id": "96d13024",
   "metadata": {},
   "outputs": [],
   "source": [
    "snp_price = snp_price.set_index('Date')"
   ]
  },
  {
   "cell_type": "code",
   "execution_count": 33,
   "id": "ff7f66d8",
   "metadata": {},
   "outputs": [
    {
     "data": {
      "text/plain": [
       "Date\n",
       "2012-11-05            NaN\n",
       "2012-11-06            NaN\n",
       "2012-11-07            NaN\n",
       "2012-11-08    1404.422500\n",
       "2012-11-09    1399.508000\n",
       "                 ...     \n",
       "2022-10-27    3719.665000\n",
       "2022-10-28    3746.667500\n",
       "2022-10-31    3763.506667\n",
       "2022-11-01    3786.259167\n",
       "2022-11-02    3793.070833\n",
       "Name: S&P500, Length: 2517, dtype: float64"
      ]
     },
     "execution_count": 33,
     "metadata": {},
     "output_type": "execute_result"
    }
   ],
   "source": [
    "snp_price['S&P500'].rolling(window=12, min_periods=4).mean()\n",
    "# snp_price['S&P500'].rolling(window=12, min_periods=4).apply(lambda x: x.mean())"
   ]
  },
  {
   "cell_type": "code",
   "execution_count": 34,
   "id": "78f78417",
   "metadata": {},
   "outputs": [
    {
     "data": {
      "text/plain": [
       "Date\n",
       "2012-11-05           NaN\n",
       "2012-11-06           NaN\n",
       "2012-11-07           NaN\n",
       "2012-11-08       5617.69\n",
       "2012-11-09       6997.54\n",
       "                 ...    \n",
       "2022-10-27    6788801.81\n",
       "2022-10-28    6792702.87\n",
       "2022-10-31    6796574.85\n",
       "2022-11-01    6800430.95\n",
       "2022-11-02    6804190.64\n",
       "Name: S&P500, Length: 2517, dtype: float64"
      ]
     },
     "execution_count": 34,
     "metadata": {},
     "output_type": "execute_result"
    }
   ],
   "source": [
    "snp_price['S&P500'].expanding(min_periods=4).sum()"
   ]
  },
  {
   "cell_type": "code",
   "execution_count": 35,
   "id": "a30d1eaa",
   "metadata": {},
   "outputs": [
    {
     "data": {
      "text/plain": [
       "Date\n",
       "2012-11-05           NaN\n",
       "2012-11-06           NaN\n",
       "2012-11-07           NaN\n",
       "2012-11-08       5617.69\n",
       "2012-11-09       6997.54\n",
       "                 ...    \n",
       "2022-10-27    6788801.81\n",
       "2022-10-28    6792702.87\n",
       "2022-10-31    6796574.85\n",
       "2022-11-01    6800430.95\n",
       "2022-11-02    6804190.64\n",
       "Name: S&P500, Length: 2517, dtype: float64"
      ]
     },
     "execution_count": 35,
     "metadata": {},
     "output_type": "execute_result"
    }
   ],
   "source": [
    "snp_price['S&P500'].expanding(min_periods=4).sum()\n",
    "# snp_price['S&P500'].cumsum()"
   ]
  },
  {
   "cell_type": "markdown",
   "id": "57d074c0",
   "metadata": {},
   "source": [
    "## pd.DataFrame\n",
    "- 사용하는 방법은 Series와 대부분 유사\n",
    "- pd.Series에는 map이 있고, pd.DataFrame에는 map이 없음\n",
    "- pd.Series에는 applymap이 없고, pd.DataFrame에는 applymap이 있음"
   ]
  },
  {
   "cell_type": "markdown",
   "id": "412d1fbd",
   "metadata": {},
   "source": [
    "![apply_oper_dataframe](./img/apply_oper_dataframe.png)"
   ]
  },
  {
   "cell_type": "markdown",
   "id": "19226edf",
   "metadata": {},
   "source": [
    "### DataFrame.apply / DataFrame.applymap"
   ]
  },
  {
   "cell_type": "markdown",
   "id": "db792ad7",
   "metadata": {},
   "source": [
    "- df.apply(함수, axis=0) : 각 열에 지정한 함수를 실행 (axis=0, default)\n",
    "- df.apply(함수, axis=1) : 각 행에 지정한 함수를 실행 (axis=1)\n",
    "- df.applymap(함수) : 모든 element에 지정한 함수를 실행"
   ]
  },
  {
   "cell_type": "code",
   "execution_count": 36,
   "id": "58f7b298",
   "metadata": {},
   "outputs": [],
   "source": [
    "snp_comps = snp_comps.reset_index(1)"
   ]
  },
  {
   "cell_type": "code",
   "execution_count": 38,
   "id": "613c4edc",
   "metadata": {},
   "outputs": [],
   "source": [
    "snp_comps.loc[:, 'BloombergExchTicker'] = snp_comps.apply(lambda x: x.name + ' ' + x.ExchangeSymbol + ' Equity', axis=1)"
   ]
  },
  {
   "cell_type": "code",
   "execution_count": 39,
   "id": "35da3db2",
   "metadata": {},
   "outputs": [
    {
     "data": {
      "text/html": [
       "<div>\n",
       "<style scoped>\n",
       "    .dataframe tbody tr th:only-of-type {\n",
       "        vertical-align: middle;\n",
       "    }\n",
       "\n",
       "    .dataframe tbody tr th {\n",
       "        vertical-align: top;\n",
       "    }\n",
       "\n",
       "    .dataframe thead th {\n",
       "        text-align: right;\n",
       "    }\n",
       "</style>\n",
       "<table border=\"1\" class=\"dataframe\">\n",
       "  <thead>\n",
       "    <tr style=\"text-align: right;\">\n",
       "      <th></th>\n",
       "      <th>Sector</th>\n",
       "      <th>Exchange</th>\n",
       "      <th>Shortname</th>\n",
       "      <th>Longname</th>\n",
       "      <th>Industry</th>\n",
       "      <th>Currentprice</th>\n",
       "      <th>Marketcap</th>\n",
       "      <th>Ebitda</th>\n",
       "      <th>Revenuegrowth</th>\n",
       "      <th>City</th>\n",
       "      <th>State</th>\n",
       "      <th>Country</th>\n",
       "      <th>Fulltimeemployees</th>\n",
       "      <th>Longbusinesssummary</th>\n",
       "      <th>Weight</th>\n",
       "      <th>ExchangeSymbol</th>\n",
       "      <th>BloombergExchTicker</th>\n",
       "    </tr>\n",
       "    <tr>\n",
       "      <th>Symbol</th>\n",
       "      <th></th>\n",
       "      <th></th>\n",
       "      <th></th>\n",
       "      <th></th>\n",
       "      <th></th>\n",
       "      <th></th>\n",
       "      <th></th>\n",
       "      <th></th>\n",
       "      <th></th>\n",
       "      <th></th>\n",
       "      <th></th>\n",
       "      <th></th>\n",
       "      <th></th>\n",
       "      <th></th>\n",
       "      <th></th>\n",
       "      <th></th>\n",
       "      <th></th>\n",
       "    </tr>\n",
       "  </thead>\n",
       "  <tbody>\n",
       "    <tr>\n",
       "      <th>AAPL</th>\n",
       "      <td>Technology</td>\n",
       "      <td>NMS</td>\n",
       "      <td>Apple Inc.</td>\n",
       "      <td>Apple Inc.</td>\n",
       "      <td>Consumer Electronics</td>\n",
       "      <td>145.03</td>\n",
       "      <td>2307151626240</td>\n",
       "      <td>1.305410e+11</td>\n",
       "      <td>0.081</td>\n",
       "      <td>Cupertino</td>\n",
       "      <td>CA</td>\n",
       "      <td>United States</td>\n",
       "      <td>164000.0</td>\n",
       "      <td>Apple Inc. designs, manufactures, and markets ...</td>\n",
       "      <td>0.069090</td>\n",
       "      <td>UW</td>\n",
       "      <td>AAPL UW Equity</td>\n",
       "    </tr>\n",
       "    <tr>\n",
       "      <th>MSFT</th>\n",
       "      <td>Technology</td>\n",
       "      <td>NMS</td>\n",
       "      <td>Microsoft Corporation</td>\n",
       "      <td>Microsoft Corporation</td>\n",
       "      <td>Software—Infrastructure</td>\n",
       "      <td>220.10</td>\n",
       "      <td>1652506361856</td>\n",
       "      <td>9.798300e+10</td>\n",
       "      <td>0.124</td>\n",
       "      <td>Redmond</td>\n",
       "      <td>WA</td>\n",
       "      <td>United States</td>\n",
       "      <td>221000.0</td>\n",
       "      <td>Microsoft Corporation develops, licenses, and ...</td>\n",
       "      <td>0.049486</td>\n",
       "      <td>UW</td>\n",
       "      <td>MSFT UW Equity</td>\n",
       "    </tr>\n",
       "    <tr>\n",
       "      <th>GOOGL</th>\n",
       "      <td>Communication Services</td>\n",
       "      <td>NMS</td>\n",
       "      <td>Alphabet Inc.</td>\n",
       "      <td>Alphabet Inc.</td>\n",
       "      <td>Internet Content &amp; Information</td>\n",
       "      <td>86.97</td>\n",
       "      <td>1126496337920</td>\n",
       "      <td>9.373300e+10</td>\n",
       "      <td>0.061</td>\n",
       "      <td>Mountain View</td>\n",
       "      <td>CA</td>\n",
       "      <td>United States</td>\n",
       "      <td>186779.0</td>\n",
       "      <td>Alphabet Inc. provides various products and pl...</td>\n",
       "      <td>0.033734</td>\n",
       "      <td>UW</td>\n",
       "      <td>GOOGL UW Equity</td>\n",
       "    </tr>\n",
       "    <tr>\n",
       "      <th>GOOG</th>\n",
       "      <td>Communication Services</td>\n",
       "      <td>NMS</td>\n",
       "      <td>Alphabet Inc.</td>\n",
       "      <td>Alphabet Inc.</td>\n",
       "      <td>Internet Content &amp; Information</td>\n",
       "      <td>87.07</td>\n",
       "      <td>1125998002176</td>\n",
       "      <td>9.373300e+10</td>\n",
       "      <td>0.061</td>\n",
       "      <td>Mountain View</td>\n",
       "      <td>CA</td>\n",
       "      <td>United States</td>\n",
       "      <td>186779.0</td>\n",
       "      <td>Alphabet Inc. provides various products and pl...</td>\n",
       "      <td>0.033719</td>\n",
       "      <td>UW</td>\n",
       "      <td>GOOG UW Equity</td>\n",
       "    </tr>\n",
       "    <tr>\n",
       "      <th>AMZN</th>\n",
       "      <td>Consumer Cyclical</td>\n",
       "      <td>NMS</td>\n",
       "      <td>Amazon.com, Inc.</td>\n",
       "      <td>Amazon.com, Inc.</td>\n",
       "      <td>Internet Retail</td>\n",
       "      <td>92.12</td>\n",
       "      <td>939780669440</td>\n",
       "      <td>5.154900e+10</td>\n",
       "      <td>0.147</td>\n",
       "      <td>Seattle</td>\n",
       "      <td>WA</td>\n",
       "      <td>United States</td>\n",
       "      <td>1544000.0</td>\n",
       "      <td>Amazon.com, Inc. engages in the retail sale of...</td>\n",
       "      <td>0.028143</td>\n",
       "      <td>UW</td>\n",
       "      <td>AMZN UW Equity</td>\n",
       "    </tr>\n",
       "    <tr>\n",
       "      <th>...</th>\n",
       "      <td>...</td>\n",
       "      <td>...</td>\n",
       "      <td>...</td>\n",
       "      <td>...</td>\n",
       "      <td>...</td>\n",
       "      <td>...</td>\n",
       "      <td>...</td>\n",
       "      <td>...</td>\n",
       "      <td>...</td>\n",
       "      <td>...</td>\n",
       "      <td>...</td>\n",
       "      <td>...</td>\n",
       "      <td>...</td>\n",
       "      <td>...</td>\n",
       "      <td>...</td>\n",
       "      <td>...</td>\n",
       "      <td>...</td>\n",
       "    </tr>\n",
       "    <tr>\n",
       "      <th>XRAY</th>\n",
       "      <td>Healthcare</td>\n",
       "      <td>NMS</td>\n",
       "      <td>DENTSPLY SIRONA Inc.</td>\n",
       "      <td>DENTSPLY SIRONA Inc.</td>\n",
       "      <td>Medical Instruments &amp; Supplies</td>\n",
       "      <td>28.18</td>\n",
       "      <td>6160345600</td>\n",
       "      <td>9.170000e+08</td>\n",
       "      <td>-0.060</td>\n",
       "      <td>Charlotte</td>\n",
       "      <td>NC</td>\n",
       "      <td>United States</td>\n",
       "      <td>15000.0</td>\n",
       "      <td>DENTSPLY SIRONA Inc. manufactures and sells va...</td>\n",
       "      <td>0.000184</td>\n",
       "      <td>UW</td>\n",
       "      <td>XRAY UW Equity</td>\n",
       "    </tr>\n",
       "    <tr>\n",
       "      <th>MHK</th>\n",
       "      <td>Consumer Cyclical</td>\n",
       "      <td>NYQ</td>\n",
       "      <td>Mohawk Industries, Inc.</td>\n",
       "      <td>Mohawk Industries, Inc.</td>\n",
       "      <td>Furnishings, Fixtures &amp; Appliances</td>\n",
       "      <td>90.47</td>\n",
       "      <td>6127750144</td>\n",
       "      <td>1.888004e+09</td>\n",
       "      <td>0.067</td>\n",
       "      <td>Calhoun</td>\n",
       "      <td>GA</td>\n",
       "      <td>United States</td>\n",
       "      <td>43000.0</td>\n",
       "      <td>Mohawk Industries, Inc. designs, manufactures,...</td>\n",
       "      <td>0.000184</td>\n",
       "      <td>UN</td>\n",
       "      <td>MHK UN Equity</td>\n",
       "    </tr>\n",
       "    <tr>\n",
       "      <th>ALK</th>\n",
       "      <td>Industrials</td>\n",
       "      <td>NYQ</td>\n",
       "      <td>Alaska Air Group, Inc.</td>\n",
       "      <td>Alaska Air Group, Inc.</td>\n",
       "      <td>Airlines</td>\n",
       "      <td>43.56</td>\n",
       "      <td>5524889088</td>\n",
       "      <td>1.073000e+09</td>\n",
       "      <td>0.448</td>\n",
       "      <td>Seattle</td>\n",
       "      <td>WA</td>\n",
       "      <td>United States</td>\n",
       "      <td>22354.0</td>\n",
       "      <td>Alaska Air Group, Inc., through its subsidiari...</td>\n",
       "      <td>0.000165</td>\n",
       "      <td>UN</td>\n",
       "      <td>ALK UN Equity</td>\n",
       "    </tr>\n",
       "    <tr>\n",
       "      <th>NWL</th>\n",
       "      <td>Consumer Defensive</td>\n",
       "      <td>NMS</td>\n",
       "      <td>Newell Brands Inc.</td>\n",
       "      <td>Newell Brands Inc.</td>\n",
       "      <td>Household &amp; Personal Products</td>\n",
       "      <td>12.86</td>\n",
       "      <td>5470643712</td>\n",
       "      <td>1.390000e+09</td>\n",
       "      <td>-0.065</td>\n",
       "      <td>Atlanta</td>\n",
       "      <td>GA</td>\n",
       "      <td>United States</td>\n",
       "      <td>32000.0</td>\n",
       "      <td>Newell Brands Inc. designs, manufactures, sour...</td>\n",
       "      <td>0.000164</td>\n",
       "      <td>UW</td>\n",
       "      <td>NWL UW Equity</td>\n",
       "    </tr>\n",
       "    <tr>\n",
       "      <th>VNO</th>\n",
       "      <td>Real Estate</td>\n",
       "      <td>NYQ</td>\n",
       "      <td>Vornado Realty Trust</td>\n",
       "      <td>Vornado Realty Trust</td>\n",
       "      <td>REIT—Office</td>\n",
       "      <td>22.84</td>\n",
       "      <td>4377993728</td>\n",
       "      <td>8.103430e+08</td>\n",
       "      <td>0.163</td>\n",
       "      <td>New York</td>\n",
       "      <td>NY</td>\n",
       "      <td>United States</td>\n",
       "      <td>3224.0</td>\n",
       "      <td>Vornado's portfolio is concentrated in the nat...</td>\n",
       "      <td>0.000131</td>\n",
       "      <td>UN</td>\n",
       "      <td>VNO UN Equity</td>\n",
       "    </tr>\n",
       "  </tbody>\n",
       "</table>\n",
       "<p>495 rows × 17 columns</p>\n",
       "</div>"
      ],
      "text/plain": [
       "                        Sector Exchange                Shortname  \\\n",
       "Symbol                                                             \n",
       "AAPL                Technology      NMS               Apple Inc.   \n",
       "MSFT                Technology      NMS    Microsoft Corporation   \n",
       "GOOGL   Communication Services      NMS            Alphabet Inc.   \n",
       "GOOG    Communication Services      NMS            Alphabet Inc.   \n",
       "AMZN         Consumer Cyclical      NMS         Amazon.com, Inc.   \n",
       "...                        ...      ...                      ...   \n",
       "XRAY                Healthcare      NMS     DENTSPLY SIRONA Inc.   \n",
       "MHK          Consumer Cyclical      NYQ  Mohawk Industries, Inc.   \n",
       "ALK                Industrials      NYQ   Alaska Air Group, Inc.   \n",
       "NWL         Consumer Defensive      NMS       Newell Brands Inc.   \n",
       "VNO                Real Estate      NYQ     Vornado Realty Trust   \n",
       "\n",
       "                       Longname                            Industry  \\\n",
       "Symbol                                                                \n",
       "AAPL                 Apple Inc.                Consumer Electronics   \n",
       "MSFT      Microsoft Corporation             Software—Infrastructure   \n",
       "GOOGL             Alphabet Inc.      Internet Content & Information   \n",
       "GOOG              Alphabet Inc.      Internet Content & Information   \n",
       "AMZN           Amazon.com, Inc.                     Internet Retail   \n",
       "...                         ...                                 ...   \n",
       "XRAY       DENTSPLY SIRONA Inc.      Medical Instruments & Supplies   \n",
       "MHK     Mohawk Industries, Inc.  Furnishings, Fixtures & Appliances   \n",
       "ALK      Alaska Air Group, Inc.                            Airlines   \n",
       "NWL          Newell Brands Inc.       Household & Personal Products   \n",
       "VNO        Vornado Realty Trust                         REIT—Office   \n",
       "\n",
       "        Currentprice      Marketcap        Ebitda  Revenuegrowth  \\\n",
       "Symbol                                                             \n",
       "AAPL          145.03  2307151626240  1.305410e+11          0.081   \n",
       "MSFT          220.10  1652506361856  9.798300e+10          0.124   \n",
       "GOOGL          86.97  1126496337920  9.373300e+10          0.061   \n",
       "GOOG           87.07  1125998002176  9.373300e+10          0.061   \n",
       "AMZN           92.12   939780669440  5.154900e+10          0.147   \n",
       "...              ...            ...           ...            ...   \n",
       "XRAY           28.18     6160345600  9.170000e+08         -0.060   \n",
       "MHK            90.47     6127750144  1.888004e+09          0.067   \n",
       "ALK            43.56     5524889088  1.073000e+09          0.448   \n",
       "NWL            12.86     5470643712  1.390000e+09         -0.065   \n",
       "VNO            22.84     4377993728  8.103430e+08          0.163   \n",
       "\n",
       "                 City State        Country  Fulltimeemployees  \\\n",
       "Symbol                                                          \n",
       "AAPL        Cupertino    CA  United States           164000.0   \n",
       "MSFT          Redmond    WA  United States           221000.0   \n",
       "GOOGL   Mountain View    CA  United States           186779.0   \n",
       "GOOG    Mountain View    CA  United States           186779.0   \n",
       "AMZN          Seattle    WA  United States          1544000.0   \n",
       "...               ...   ...            ...                ...   \n",
       "XRAY        Charlotte    NC  United States            15000.0   \n",
       "MHK           Calhoun    GA  United States            43000.0   \n",
       "ALK           Seattle    WA  United States            22354.0   \n",
       "NWL           Atlanta    GA  United States            32000.0   \n",
       "VNO          New York    NY  United States             3224.0   \n",
       "\n",
       "                                      Longbusinesssummary    Weight  \\\n",
       "Symbol                                                                \n",
       "AAPL    Apple Inc. designs, manufactures, and markets ...  0.069090   \n",
       "MSFT    Microsoft Corporation develops, licenses, and ...  0.049486   \n",
       "GOOGL   Alphabet Inc. provides various products and pl...  0.033734   \n",
       "GOOG    Alphabet Inc. provides various products and pl...  0.033719   \n",
       "AMZN    Amazon.com, Inc. engages in the retail sale of...  0.028143   \n",
       "...                                                   ...       ...   \n",
       "XRAY    DENTSPLY SIRONA Inc. manufactures and sells va...  0.000184   \n",
       "MHK     Mohawk Industries, Inc. designs, manufactures,...  0.000184   \n",
       "ALK     Alaska Air Group, Inc., through its subsidiari...  0.000165   \n",
       "NWL     Newell Brands Inc. designs, manufactures, sour...  0.000164   \n",
       "VNO     Vornado's portfolio is concentrated in the nat...  0.000131   \n",
       "\n",
       "       ExchangeSymbol BloombergExchTicker  \n",
       "Symbol                                     \n",
       "AAPL               UW      AAPL UW Equity  \n",
       "MSFT               UW      MSFT UW Equity  \n",
       "GOOGL              UW     GOOGL UW Equity  \n",
       "GOOG               UW      GOOG UW Equity  \n",
       "AMZN               UW      AMZN UW Equity  \n",
       "...               ...                 ...  \n",
       "XRAY               UW      XRAY UW Equity  \n",
       "MHK                UN       MHK UN Equity  \n",
       "ALK                UN       ALK UN Equity  \n",
       "NWL                UW       NWL UW Equity  \n",
       "VNO                UN       VNO UN Equity  \n",
       "\n",
       "[495 rows x 17 columns]"
      ]
     },
     "execution_count": 39,
     "metadata": {},
     "output_type": "execute_result"
    }
   ],
   "source": [
    "snp_comps"
   ]
  },
  {
   "cell_type": "markdown",
   "id": "d092e933",
   "metadata": {},
   "source": [
    "### DataFrame.agg / DataFrame.transform"
   ]
  },
  {
   "cell_type": "code",
   "execution_count": 295,
   "id": "daf0168a",
   "metadata": {},
   "outputs": [
    {
     "data": {
      "text/html": [
       "<div>\n",
       "<style scoped>\n",
       "    .dataframe tbody tr th:only-of-type {\n",
       "        vertical-align: middle;\n",
       "    }\n",
       "\n",
       "    .dataframe tbody tr th {\n",
       "        vertical-align: top;\n",
       "    }\n",
       "\n",
       "    .dataframe thead th {\n",
       "        text-align: right;\n",
       "    }\n",
       "</style>\n",
       "<table border=\"1\" class=\"dataframe\">\n",
       "  <thead>\n",
       "    <tr style=\"text-align: right;\">\n",
       "      <th></th>\n",
       "      <th>Ebitda</th>\n",
       "      <th>Revenuegrowth</th>\n",
       "      <th>Marketcap</th>\n",
       "    </tr>\n",
       "  </thead>\n",
       "  <tbody>\n",
       "    <tr>\n",
       "      <th>len</th>\n",
       "      <td>4.950000e+02</td>\n",
       "      <td>495.000000</td>\n",
       "      <td>4.950000e+02</td>\n",
       "    </tr>\n",
       "    <tr>\n",
       "      <th>mean</th>\n",
       "      <td>6.056162e+09</td>\n",
       "      <td>0.612858</td>\n",
       "      <td>6.746162e+10</td>\n",
       "    </tr>\n",
       "    <tr>\n",
       "      <th>std</th>\n",
       "      <td>1.210925e+10</td>\n",
       "      <td>7.771660</td>\n",
       "      <td>1.642378e+11</td>\n",
       "    </tr>\n",
       "  </tbody>\n",
       "</table>\n",
       "</div>"
      ],
      "text/plain": [
       "            Ebitda  Revenuegrowth     Marketcap\n",
       "len   4.950000e+02     495.000000  4.950000e+02\n",
       "mean  6.056162e+09       0.612858  6.746162e+10\n",
       "std   1.210925e+10       7.771660  1.642378e+11"
      ]
     },
     "execution_count": 295,
     "metadata": {},
     "output_type": "execute_result"
    }
   ],
   "source": [
    "# 여러 함수를 동시에 각 행/열에 적용\n",
    "snp_comps[['Ebitda', 'Revenuegrowth', 'Marketcap']].agg([len, np.mean, np.std])"
   ]
  },
  {
   "cell_type": "code",
   "execution_count": 298,
   "id": "4ade34a9",
   "metadata": {},
   "outputs": [
    {
     "data": {
      "text/html": [
       "<div>\n",
       "<style scoped>\n",
       "    .dataframe tbody tr th:only-of-type {\n",
       "        vertical-align: middle;\n",
       "    }\n",
       "\n",
       "    .dataframe tbody tr th {\n",
       "        vertical-align: top;\n",
       "    }\n",
       "\n",
       "    .dataframe thead tr th {\n",
       "        text-align: left;\n",
       "    }\n",
       "\n",
       "    .dataframe thead tr:last-of-type th {\n",
       "        text-align: right;\n",
       "    }\n",
       "</style>\n",
       "<table border=\"1\" class=\"dataframe\">\n",
       "  <thead>\n",
       "    <tr>\n",
       "      <th></th>\n",
       "      <th colspan=\"2\" halign=\"left\">Ebitda</th>\n",
       "      <th colspan=\"2\" halign=\"left\">Revenuegrowth</th>\n",
       "      <th colspan=\"2\" halign=\"left\">Marketcap</th>\n",
       "    </tr>\n",
       "    <tr>\n",
       "      <th></th>\n",
       "      <th>&lt;lambda&gt;</th>\n",
       "      <th>&lt;lambda&gt;</th>\n",
       "      <th>&lt;lambda&gt;</th>\n",
       "      <th>&lt;lambda&gt;</th>\n",
       "      <th>&lt;lambda&gt;</th>\n",
       "      <th>&lt;lambda&gt;</th>\n",
       "    </tr>\n",
       "    <tr>\n",
       "      <th>Symbol</th>\n",
       "      <th></th>\n",
       "      <th></th>\n",
       "      <th></th>\n",
       "      <th></th>\n",
       "      <th></th>\n",
       "      <th></th>\n",
       "    </tr>\n",
       "  </thead>\n",
       "  <tbody>\n",
       "    <tr>\n",
       "      <th>AAPL</th>\n",
       "      <td>1.305410e+13</td>\n",
       "      <td>1.305410e+11</td>\n",
       "      <td>8.1</td>\n",
       "      <td>-199.919</td>\n",
       "      <td>230715162624000</td>\n",
       "      <td>2307151626040</td>\n",
       "    </tr>\n",
       "    <tr>\n",
       "      <th>MSFT</th>\n",
       "      <td>9.798300e+12</td>\n",
       "      <td>9.798300e+10</td>\n",
       "      <td>12.4</td>\n",
       "      <td>-199.876</td>\n",
       "      <td>165250636185600</td>\n",
       "      <td>1652506361656</td>\n",
       "    </tr>\n",
       "    <tr>\n",
       "      <th>GOOGL</th>\n",
       "      <td>9.373300e+12</td>\n",
       "      <td>9.373300e+10</td>\n",
       "      <td>6.1</td>\n",
       "      <td>-199.939</td>\n",
       "      <td>112649633792000</td>\n",
       "      <td>1126496337720</td>\n",
       "    </tr>\n",
       "    <tr>\n",
       "      <th>GOOG</th>\n",
       "      <td>9.373300e+12</td>\n",
       "      <td>9.373300e+10</td>\n",
       "      <td>6.1</td>\n",
       "      <td>-199.939</td>\n",
       "      <td>112599800217600</td>\n",
       "      <td>1125998001976</td>\n",
       "    </tr>\n",
       "    <tr>\n",
       "      <th>AMZN</th>\n",
       "      <td>5.154900e+12</td>\n",
       "      <td>5.154900e+10</td>\n",
       "      <td>14.7</td>\n",
       "      <td>-199.853</td>\n",
       "      <td>93978066944000</td>\n",
       "      <td>939780669240</td>\n",
       "    </tr>\n",
       "    <tr>\n",
       "      <th>...</th>\n",
       "      <td>...</td>\n",
       "      <td>...</td>\n",
       "      <td>...</td>\n",
       "      <td>...</td>\n",
       "      <td>...</td>\n",
       "      <td>...</td>\n",
       "    </tr>\n",
       "    <tr>\n",
       "      <th>XRAY</th>\n",
       "      <td>9.170000e+10</td>\n",
       "      <td>9.169998e+08</td>\n",
       "      <td>-6.0</td>\n",
       "      <td>-200.060</td>\n",
       "      <td>616034560000</td>\n",
       "      <td>6160345400</td>\n",
       "    </tr>\n",
       "    <tr>\n",
       "      <th>MHK</th>\n",
       "      <td>1.888004e+11</td>\n",
       "      <td>1.888004e+09</td>\n",
       "      <td>6.7</td>\n",
       "      <td>-199.933</td>\n",
       "      <td>612775014400</td>\n",
       "      <td>6127749944</td>\n",
       "    </tr>\n",
       "    <tr>\n",
       "      <th>ALK</th>\n",
       "      <td>1.073000e+11</td>\n",
       "      <td>1.073000e+09</td>\n",
       "      <td>44.8</td>\n",
       "      <td>-199.552</td>\n",
       "      <td>552488908800</td>\n",
       "      <td>5524888888</td>\n",
       "    </tr>\n",
       "    <tr>\n",
       "      <th>NWL</th>\n",
       "      <td>1.390000e+11</td>\n",
       "      <td>1.390000e+09</td>\n",
       "      <td>-6.5</td>\n",
       "      <td>-200.065</td>\n",
       "      <td>547064371200</td>\n",
       "      <td>5470643512</td>\n",
       "    </tr>\n",
       "    <tr>\n",
       "      <th>VNO</th>\n",
       "      <td>8.103430e+10</td>\n",
       "      <td>8.103428e+08</td>\n",
       "      <td>16.3</td>\n",
       "      <td>-199.837</td>\n",
       "      <td>437799372800</td>\n",
       "      <td>4377993528</td>\n",
       "    </tr>\n",
       "  </tbody>\n",
       "</table>\n",
       "<p>495 rows × 6 columns</p>\n",
       "</div>"
      ],
      "text/plain": [
       "              Ebitda               Revenuegrowth                 Marketcap  \\\n",
       "            <lambda>      <lambda>      <lambda> <lambda>         <lambda>   \n",
       "Symbol                                                                       \n",
       "AAPL    1.305410e+13  1.305410e+11           8.1 -199.919  230715162624000   \n",
       "MSFT    9.798300e+12  9.798300e+10          12.4 -199.876  165250636185600   \n",
       "GOOGL   9.373300e+12  9.373300e+10           6.1 -199.939  112649633792000   \n",
       "GOOG    9.373300e+12  9.373300e+10           6.1 -199.939  112599800217600   \n",
       "AMZN    5.154900e+12  5.154900e+10          14.7 -199.853   93978066944000   \n",
       "...              ...           ...           ...      ...              ...   \n",
       "XRAY    9.170000e+10  9.169998e+08          -6.0 -200.060     616034560000   \n",
       "MHK     1.888004e+11  1.888004e+09           6.7 -199.933     612775014400   \n",
       "ALK     1.073000e+11  1.073000e+09          44.8 -199.552     552488908800   \n",
       "NWL     1.390000e+11  1.390000e+09          -6.5 -200.065     547064371200   \n",
       "VNO     8.103430e+10  8.103428e+08          16.3 -199.837     437799372800   \n",
       "\n",
       "                       \n",
       "             <lambda>  \n",
       "Symbol                 \n",
       "AAPL    2307151626040  \n",
       "MSFT    1652506361656  \n",
       "GOOGL   1126496337720  \n",
       "GOOG    1125998001976  \n",
       "AMZN     939780669240  \n",
       "...               ...  \n",
       "XRAY       6160345400  \n",
       "MHK        6127749944  \n",
       "ALK        5524888888  \n",
       "NWL        5470643512  \n",
       "VNO        4377993528  \n",
       "\n",
       "[495 rows x 6 columns]"
      ]
     },
     "execution_count": 298,
     "metadata": {},
     "output_type": "execute_result"
    }
   ],
   "source": [
    "# 여러 함수를 동시에 각 행/열에 적용, but 결과는 반드시 기존 Dataframe의 index와 같은 구조여야 함\n",
    "# transform은 특히 아래 groupby 함수와 같이 쓰면 효율적\n",
    "snp_comps[['Ebitda', 'Revenuegrowth', 'Marketcap']].transform([lambda x: x * 100, lambda x: x - 200])"
   ]
  },
  {
   "cell_type": "markdown",
   "id": "ddbe9670",
   "metadata": {},
   "source": [
    "### DataFrame.groupby\n",
    "- 특정 인덱스 혹은 컬럼 기준으로 그룹핑하여 함수 적용"
   ]
  },
  {
   "cell_type": "code",
   "execution_count": 332,
   "id": "366bd5f8",
   "metadata": {},
   "outputs": [
    {
     "data": {
      "text/plain": [
       "Sector\n",
       "Basic Materials           0.022636\n",
       "Communication Services    0.103914\n",
       "Consumer Cyclical         0.091646\n",
       "Consumer Defensive        0.081824\n",
       "Energy                    0.053957\n",
       "Financial Services        0.130473\n",
       "Healthcare                0.147635\n",
       "Industrials               0.087983\n",
       "Real Estate               0.025306\n",
       "Technology                0.226588\n",
       "Utilities                 0.028036\n",
       "Name: Weight, dtype: float64"
      ]
     },
     "execution_count": 332,
     "metadata": {},
     "output_type": "execute_result"
    }
   ],
   "source": [
    "snp_comps.groupby('Sector').Weight.sum()"
   ]
  },
  {
   "cell_type": "code",
   "execution_count": 339,
   "id": "52da1a6a",
   "metadata": {},
   "outputs": [],
   "source": [
    "# 각 함수에는 입력값으로 Sector에 따라 구분된 DataFrame이 들어감\n",
    "# snp_comps.groupby('Sector').apply(함수)"
   ]
  },
  {
   "cell_type": "code",
   "execution_count": 340,
   "id": "4e777a1c",
   "metadata": {},
   "outputs": [],
   "source": [
    "def check_input(x):\n",
    "    print(\"=\" * 50)\n",
    "    print(isinstance(x, pd.DataFrame))\n",
    "    print(x.Sector.unique())\n",
    "    print(x.columns)\n",
    "    print(x.index)"
   ]
  },
  {
   "cell_type": "code",
   "execution_count": 341,
   "id": "89b18a46",
   "metadata": {},
   "outputs": [
    {
     "name": "stdout",
     "output_type": "stream",
     "text": [
      "==================================================\n",
      "True\n",
      "['Basic Materials']\n",
      "Index(['Sector', 'Exchange', 'Shortname', 'Longname', 'Industry',\n",
      "       'Currentprice', 'Marketcap', 'Ebitda', 'Revenuegrowth', 'City', 'State',\n",
      "       'Country', 'Fulltimeemployees', 'Longbusinesssummary', 'Weight',\n",
      "       'ExchangeSymbol', 'BloombergExchTicker'],\n",
      "      dtype='object')\n",
      "Index(['LIN', 'SHW', 'APD', 'CTVA', 'FCX', 'ECL', 'NUE', 'DOW', 'NEM', 'DD',\n",
      "       'ALB', 'PPG', 'LYB', 'IFF', 'CF', 'VMC', 'MLM', 'MOS', 'FMC', 'EMN',\n",
      "       'CE'],\n",
      "      dtype='object', name='Symbol')\n",
      "==================================================\n",
      "True\n",
      "['Communication Services']\n",
      "Index(['Sector', 'Exchange', 'Shortname', 'Longname', 'Industry',\n",
      "       'Currentprice', 'Marketcap', 'Ebitda', 'Revenuegrowth', 'City', 'State',\n",
      "       'Country', 'Fulltimeemployees', 'Longbusinesssummary', 'Weight',\n",
      "       'ExchangeSymbol', 'BloombergExchTicker'],\n",
      "      dtype='object')\n",
      "Index(['GOOGL', 'GOOG', 'TMUS', 'DIS', 'VZ', 'CMCSA', 'T', 'NFLX', 'CHTR',\n",
      "       'ATVI', 'EA', 'LYV', 'FOX', 'FOXA', 'OMC', 'TTWO', 'MTCH', 'IPG', 'NWS',\n",
      "       'NWSA', 'DISH', 'LUMN'],\n",
      "      dtype='object', name='Symbol')\n",
      "==================================================\n",
      "True\n",
      "['Consumer Cyclical']\n",
      "Index(['Sector', 'Exchange', 'Shortname', 'Longname', 'Industry',\n",
      "       'Currentprice', 'Marketcap', 'Ebitda', 'Revenuegrowth', 'City', 'State',\n",
      "       'Country', 'Fulltimeemployees', 'Longbusinesssummary', 'Weight',\n",
      "       'ExchangeSymbol', 'BloombergExchTicker'],\n",
      "      dtype='object')\n",
      "Index(['AMZN', 'HD', 'TSLA', 'MCD', 'NKE', 'LOW', 'TJX', 'BKNG', 'GM', 'ORLY',\n",
      "       'F', 'MAR', 'AZO', 'CMG', 'HLT', 'YUM', 'ROST', 'LVS', 'DHI', 'CPRT',\n",
      "       'GPC', 'LEN', 'TSCO', 'APTV', 'EBAY', 'ULTA', 'ROL', 'DRI', 'MGM',\n",
      "       'AMCR', 'LKQ', 'BALL', 'BBY', 'NVR', 'EXPE', 'IP', 'RCL', 'DPZ', 'CCL',\n",
      "       'PKG', 'AAP', 'ETSY', 'VFC', 'KMX', 'PHM', 'CZR', 'WRK', 'HAS', 'BWA',\n",
      "       'TPR', 'WHR', 'WYNN', 'BBWI', 'NCLH', 'RL', 'SEE', 'MHK'],\n",
      "      dtype='object', name='Symbol')\n",
      "==================================================\n",
      "True\n",
      "['Consumer Defensive']\n",
      "Index(['Sector', 'Exchange', 'Shortname', 'Longname', 'Industry',\n",
      "       'Currentprice', 'Marketcap', 'Ebitda', 'Revenuegrowth', 'City', 'State',\n",
      "       'Country', 'Fulltimeemployees', 'Longbusinesssummary', 'Weight',\n",
      "       'ExchangeSymbol', 'BloombergExchTicker'],\n",
      "      dtype='object')\n",
      "Index(['WMT', 'PG', 'KO', 'PEP', 'COST', 'PM', 'MDLZ', 'MO', 'TGT', 'EL', 'CL',\n",
      "       'DG', 'ADM', 'KDP', 'MNST', 'HSY', 'GIS', 'KHC', 'STZ', 'SYY', 'KMB',\n",
      "       'DLTR', 'KR', 'BF-B', 'K', 'HRL', 'TSN', 'MKC', 'CHD', 'CAG', 'CLX',\n",
      "       'SJM', 'CPB', 'LW', 'TAP', 'NWL'],\n",
      "      dtype='object', name='Symbol')\n",
      "==================================================\n",
      "True\n",
      "['Energy']\n",
      "Index(['Sector', 'Exchange', 'Shortname', 'Longname', 'Industry',\n",
      "       'Currentprice', 'Marketcap', 'Ebitda', 'Revenuegrowth', 'City', 'State',\n",
      "       'Country', 'Fulltimeemployees', 'Longbusinesssummary', 'Weight',\n",
      "       'ExchangeSymbol', 'BloombergExchTicker'],\n",
      "      dtype='object')\n",
      "Index(['XOM', 'CVX', 'COP', 'EOG', 'SLB', 'MPC', 'OXY', 'PXD', 'VLO', 'DVN',\n",
      "       'PSX', 'HES', 'KMI', 'WMB', 'HAL', 'FANG', 'BKR', 'OKE', 'CTRA', 'MRO',\n",
      "       'TRGP', 'EQT', 'APA'],\n",
      "      dtype='object', name='Symbol')\n",
      "==================================================\n",
      "True\n",
      "['Financial Services']\n",
      "Index(['Sector', 'Exchange', 'Shortname', 'Longname', 'Industry',\n",
      "       'Currentprice', 'Marketcap', 'Ebitda', 'Revenuegrowth', 'City', 'State',\n",
      "       'Country', 'Fulltimeemployees', 'Longbusinesssummary', 'Weight',\n",
      "       'ExchangeSymbol', 'BloombergExchTicker'],\n",
      "      dtype='object')\n",
      "Index(['BRK-B', 'JPM', 'MA', 'BAC', 'WFC', 'MS', 'SCHW', 'GS', 'AXP', 'BLK',\n",
      "       'PYPL', 'CB', 'C', 'MMC', 'SPGI', 'PGR', 'PNC', 'CME', 'USB', 'MET',\n",
      "       'TFC', 'AON', 'ICE', 'MCO', 'TRV', 'AIG', 'AFL', 'PRU', 'COF', 'AJG',\n",
      "       'MSCI', 'BK', 'ALL', 'AMP', 'DFS', 'STT', 'HIG', 'RJF', 'TROW', 'FITB',\n",
      "       'PFG', 'HBAN', 'MTB', 'RF', 'ACGL', 'FRC', 'WRB', 'SYF', 'NTRS', 'CFG',\n",
      "       'KEY', 'BRO', 'CINF', 'FDS', 'L', 'CBOE', 'RE', 'SIVB', 'GL', 'BEN',\n",
      "       'NDAQ', 'LNC', 'SBNY', 'CMA', 'MKTX', 'ZION', 'IVZ', 'AIZ'],\n",
      "      dtype='object', name='Symbol')\n",
      "==================================================\n",
      "True\n",
      "['Healthcare']\n",
      "Index(['Sector', 'Exchange', 'Shortname', 'Longname', 'Industry',\n",
      "       'Currentprice', 'Marketcap', 'Ebitda', 'Revenuegrowth', 'City', 'State',\n",
      "       'Country', 'Fulltimeemployees', 'Longbusinesssummary', 'Weight',\n",
      "       'ExchangeSymbol', 'BloombergExchTicker'],\n",
      "      dtype='object')\n",
      "Index(['UNH', 'JNJ', 'LLY', 'PFE', 'ABBV', 'MRK', 'TMO', 'DHR', 'ABT', 'BMY',\n",
      "       'AMGN', 'CVS', 'MDT', 'CI', 'GILD', 'ISRG', 'SYK', 'REGN', 'VRTX',\n",
      "       'HUM', 'ZTS', 'HCA', 'BDX', 'MRNA', 'BSX', 'MCK', 'CNC', 'EW', 'BIIB',\n",
      "       'A', 'IQV', 'ILMN', 'ABC', 'RMD', 'IDXX', 'WBA', 'MTD', 'BAX', 'ZBH',\n",
      "       'LH', 'MOH', 'CAH', 'HOLX', 'WAT', 'DGX', 'INCY', 'ABMD', 'STE', 'PKI',\n",
      "       'WST', 'ALGN', 'COO', 'VTRS', 'TECH', 'DXCM', 'CRL', 'BIO', 'TFX',\n",
      "       'HSIC', 'UHS', 'CTLT', 'DVA', 'OGN', 'XRAY'],\n",
      "      dtype='object', name='Symbol')\n",
      "==================================================\n",
      "True\n",
      "['Industrials']\n",
      "Index(['Sector', 'Exchange', 'Shortname', 'Longname', 'Industry',\n",
      "       'Currentprice', 'Marketcap', 'Ebitda', 'Revenuegrowth', 'City', 'State',\n",
      "       'Country', 'Fulltimeemployees', 'Longbusinesssummary', 'Weight',\n",
      "       'ExchangeSymbol', 'BloombergExchTicker'],\n",
      "      dtype='object')\n",
      "Index(['UPS', 'RTX', 'HON', 'LMT', 'UNP', 'DE', 'CAT', 'ADP', 'BA', 'GE',\n",
      "       'NOC', 'GD', 'MMM', 'ITW', 'WM', 'CSX', 'ETN', 'NSC', 'EMR', 'LHX',\n",
      "       'CTAS', 'ROP', 'RSG', 'PAYX', 'FDX', 'JCI', 'TT', 'PH', 'CMI', 'PCAR',\n",
      "       'CARR', 'GPN', 'TDG', 'GWW', 'ODFL', 'AME', 'OTIS', 'FAST', 'ROK',\n",
      "       'VRSK', 'URI', 'LUV', 'DAL', 'IR', 'EFX', 'PWR', 'DOV', 'XYL', 'JBHT',\n",
      "       'WAB', 'IEX', 'EXPD', 'HWM', 'TXT', 'J', 'AVY', 'UAL', 'NDSN', 'SWK',\n",
      "       'POOL', 'SNA', 'CHRW', 'MAS', 'HII', 'ALLE', 'AAL', 'RHI', 'AOS',\n",
      "       'FBHS', 'PNR', 'GNRC', 'ALK'],\n",
      "      dtype='object', name='Symbol')\n",
      "==================================================\n",
      "True\n",
      "['Real Estate']\n",
      "Index(['Sector', 'Exchange', 'Shortname', 'Longname', 'Industry',\n",
      "       'Currentprice', 'Marketcap', 'Ebitda', 'Revenuegrowth', 'City', 'State',\n",
      "       'Country', 'Fulltimeemployees', 'Longbusinesssummary', 'Weight',\n",
      "       'ExchangeSymbol', 'BloombergExchTicker'],\n",
      "      dtype='object')\n",
      "Index(['AMT', 'PLD', 'CCI', 'PSA', 'EQIX', 'SPG', 'O', 'CSGP', 'SBAC', 'DLR',\n",
      "       'WELL', 'AVB', 'ARE', 'EQR', 'WY', 'CBRE', 'EXR', 'VICI', 'INVH', 'MAA',\n",
      "       'VTR', 'IRM', 'ESS', 'HST', 'KIM', 'PEAK', 'UDR', 'CPT', 'BXP', 'REG',\n",
      "       'FRT', 'VNO'],\n",
      "      dtype='object', name='Symbol')\n",
      "==================================================\n",
      "True\n",
      "['Technology']\n",
      "Index(['Sector', 'Exchange', 'Shortname', 'Longname', 'Industry',\n",
      "       'Currentprice', 'Marketcap', 'Ebitda', 'Revenuegrowth', 'City', 'State',\n",
      "       'Country', 'Fulltimeemployees', 'Longbusinesssummary', 'Weight',\n",
      "       'ExchangeSymbol', 'BloombergExchTicker'],\n",
      "      dtype='object')\n",
      "Index(['AAPL', 'MSFT', 'NVDA', 'ORCL', 'CSCO', 'AVGO', 'ACN', 'CRM', 'TXN',\n",
      "       'ADBE', 'QCOM', 'IBM', 'INTC', 'INTU', 'AMD', 'NOW', 'AMAT', 'ADI',\n",
      "       'FISV', 'MU', 'LRCX', 'FIS', 'KLAC', 'APH', 'SNPS', 'ADSK', 'MSI',\n",
      "       'CDNS', 'NXPI', 'ENPH', 'ANET', 'TEL', 'MCHP', 'CTSH', 'KEYS', 'HPQ',\n",
      "       'GLW', 'IT', 'ON', 'CDW', 'FTV', 'BR', 'VRSN', 'PAYC', 'EPAM', 'ANSS',\n",
      "       'TDY', 'HPE', 'GRMN', 'MPWR', 'NTAP', 'LDOS', 'FLT', 'JKHY', 'SWKS',\n",
      "       'PTC', 'AKAM', 'TRMB', 'NLOK', 'TER', 'ZBRA', 'TYL', 'SEDG', 'STX',\n",
      "       'WDC', 'JNPR', 'CDAY', 'QRVO', 'FTNT', 'FFIV', 'DXC'],\n",
      "      dtype='object', name='Symbol')\n",
      "==================================================\n",
      "True\n",
      "['Utilities']\n",
      "Index(['Sector', 'Exchange', 'Shortname', 'Longname', 'Industry',\n",
      "       'Currentprice', 'Marketcap', 'Ebitda', 'Revenuegrowth', 'City', 'State',\n",
      "       'Country', 'Fulltimeemployees', 'Longbusinesssummary', 'Weight',\n",
      "       'ExchangeSymbol', 'BloombergExchTicker'],\n",
      "      dtype='object')\n",
      "Index(['NEE', 'DUK', 'SO', 'D', 'SRE', 'AEP', 'EXC', 'XEL', 'PCG', 'ED', 'PEG',\n",
      "       'WEC', 'ES', 'AWK', 'EIX', 'ETR', 'FE', 'DTE', 'AEE', 'PPL', 'CNP',\n",
      "       'AES', 'CMS', 'ATO', 'EVRG', 'LNT', 'NRG', 'NI', 'PNW'],\n",
      "      dtype='object', name='Symbol')\n"
     ]
    },
    {
     "data": {
      "text/html": [
       "<div>\n",
       "<style scoped>\n",
       "    .dataframe tbody tr th:only-of-type {\n",
       "        vertical-align: middle;\n",
       "    }\n",
       "\n",
       "    .dataframe tbody tr th {\n",
       "        vertical-align: top;\n",
       "    }\n",
       "\n",
       "    .dataframe thead th {\n",
       "        text-align: right;\n",
       "    }\n",
       "</style>\n",
       "<table border=\"1\" class=\"dataframe\">\n",
       "  <thead>\n",
       "    <tr style=\"text-align: right;\">\n",
       "      <th></th>\n",
       "    </tr>\n",
       "  </thead>\n",
       "  <tbody>\n",
       "  </tbody>\n",
       "</table>\n",
       "</div>"
      ],
      "text/plain": [
       "Empty DataFrame\n",
       "Columns: []\n",
       "Index: []"
      ]
     },
     "execution_count": 341,
     "metadata": {},
     "output_type": "execute_result"
    }
   ],
   "source": [
    "snp_comps.groupby('Sector').apply(check_input)"
   ]
  },
  {
   "cell_type": "code",
   "execution_count": 342,
   "id": "0918d54f",
   "metadata": {},
   "outputs": [],
   "source": [
    "def cal_weight(x):\n",
    "    copy_x = x.copy()\n",
    "    return copy_x.Weight.sum()"
   ]
  },
  {
   "cell_type": "code",
   "execution_count": 343,
   "id": "5d261923",
   "metadata": {},
   "outputs": [
    {
     "data": {
      "text/plain": [
       "Sector\n",
       "Basic Materials           0.022636\n",
       "Communication Services    0.103914\n",
       "Consumer Cyclical         0.091646\n",
       "Consumer Defensive        0.081824\n",
       "Energy                    0.053957\n",
       "Financial Services        0.130473\n",
       "Healthcare                0.147635\n",
       "Industrials               0.087983\n",
       "Real Estate               0.025306\n",
       "Technology                0.226588\n",
       "Utilities                 0.028036\n",
       "dtype: float64"
      ]
     },
     "execution_count": 343,
     "metadata": {},
     "output_type": "execute_result"
    }
   ],
   "source": [
    "snp_comps.groupby('Sector').apply(cal_weight)"
   ]
  },
  {
   "cell_type": "markdown",
   "id": "77edc7f7",
   "metadata": {},
   "source": [
    "- groupby는 groupby 컬럼 기준으로 reindex한 결과를 반환\n",
    "- groupby.transform 하면 기존 DataFrame의 index 기준으로 반환함"
   ]
  },
  {
   "cell_type": "code",
   "execution_count": 349,
   "id": "7774d769",
   "metadata": {},
   "outputs": [
    {
     "data": {
      "text/html": [
       "<div>\n",
       "<style scoped>\n",
       "    .dataframe tbody tr th:only-of-type {\n",
       "        vertical-align: middle;\n",
       "    }\n",
       "\n",
       "    .dataframe tbody tr th {\n",
       "        vertical-align: top;\n",
       "    }\n",
       "\n",
       "    .dataframe thead th {\n",
       "        text-align: right;\n",
       "    }\n",
       "</style>\n",
       "<table border=\"1\" class=\"dataframe\">\n",
       "  <thead>\n",
       "    <tr style=\"text-align: right;\">\n",
       "      <th></th>\n",
       "      <th>Ebitda</th>\n",
       "      <th>Revenuegrowth</th>\n",
       "    </tr>\n",
       "    <tr>\n",
       "      <th>Sector</th>\n",
       "      <th></th>\n",
       "      <th></th>\n",
       "    </tr>\n",
       "  </thead>\n",
       "  <tbody>\n",
       "    <tr>\n",
       "      <th>Basic Materials</th>\n",
       "      <td>4.828141e+09</td>\n",
       "      <td>0.291048</td>\n",
       "    </tr>\n",
       "    <tr>\n",
       "      <th>Communication Services</th>\n",
       "      <td>1.882970e+10</td>\n",
       "      <td>0.277227</td>\n",
       "    </tr>\n",
       "    <tr>\n",
       "      <th>Consumer Cyclical</th>\n",
       "      <td>4.471681e+09</td>\n",
       "      <td>3.957930</td>\n",
       "    </tr>\n",
       "    <tr>\n",
       "      <th>Consumer Defensive</th>\n",
       "      <td>6.051607e+09</td>\n",
       "      <td>0.093333</td>\n",
       "    </tr>\n",
       "    <tr>\n",
       "      <th>Energy</th>\n",
       "      <td>1.160552e+10</td>\n",
       "      <td>0.803783</td>\n",
       "    </tr>\n",
       "    <tr>\n",
       "      <th>Financial Services</th>\n",
       "      <td>4.626184e+09</td>\n",
       "      <td>0.013735</td>\n",
       "    </tr>\n",
       "    <tr>\n",
       "      <th>Healthcare</th>\n",
       "      <td>6.702209e+09</td>\n",
       "      <td>0.104516</td>\n",
       "    </tr>\n",
       "    <tr>\n",
       "      <th>Industrials</th>\n",
       "      <td>3.394158e+09</td>\n",
       "      <td>0.159500</td>\n",
       "    </tr>\n",
       "    <tr>\n",
       "      <th>Real Estate</th>\n",
       "      <td>1.862984e+09</td>\n",
       "      <td>0.227531</td>\n",
       "    </tr>\n",
       "    <tr>\n",
       "      <th>Technology</th>\n",
       "      <td>7.357816e+09</td>\n",
       "      <td>0.174141</td>\n",
       "    </tr>\n",
       "    <tr>\n",
       "      <th>Utilities</th>\n",
       "      <td>4.379379e+09</td>\n",
       "      <td>0.139517</td>\n",
       "    </tr>\n",
       "  </tbody>\n",
       "</table>\n",
       "</div>"
      ],
      "text/plain": [
       "                              Ebitda  Revenuegrowth\n",
       "Sector                                             \n",
       "Basic Materials         4.828141e+09       0.291048\n",
       "Communication Services  1.882970e+10       0.277227\n",
       "Consumer Cyclical       4.471681e+09       3.957930\n",
       "Consumer Defensive      6.051607e+09       0.093333\n",
       "Energy                  1.160552e+10       0.803783\n",
       "Financial Services      4.626184e+09       0.013735\n",
       "Healthcare              6.702209e+09       0.104516\n",
       "Industrials             3.394158e+09       0.159500\n",
       "Real Estate             1.862984e+09       0.227531\n",
       "Technology              7.357816e+09       0.174141\n",
       "Utilities               4.379379e+09       0.139517"
      ]
     },
     "execution_count": 349,
     "metadata": {},
     "output_type": "execute_result"
    }
   ],
   "source": [
    "snp_comps.groupby('Sector')[['Ebitda', 'Revenuegrowth']].apply(lambda x: x.mean())"
   ]
  },
  {
   "cell_type": "code",
   "execution_count": 359,
   "id": "a16c4220",
   "metadata": {},
   "outputs": [],
   "source": [
    "# 각 종목에 대한 섹터 평균값을 기존 데이터프레임과 같은 구조로 계산할 수 있음\n",
    "# transform 함수를 사용하지 않으면 별도로 merge 하는 계산을 해야 함\n",
    "snp_comps.loc[:, 'SctrAVgEbitda'] = snp_comps.groupby('Sector')['Ebitda'].transform(lambda x: x.mean())"
   ]
  },
  {
   "cell_type": "markdown",
   "id": "a50d9a3c",
   "metadata": {},
   "source": [
    "- groupby (multi column grouping)"
   ]
  },
  {
   "cell_type": "code",
   "execution_count": 358,
   "id": "0d9c8618",
   "metadata": {},
   "outputs": [
    {
     "data": {
      "text/plain": [
       "Sector           Industry                             \n",
       "Basic Materials  Agricultural Inputs                      0.003154\n",
       "                 Building Materials                       0.001251\n",
       "                 Chemicals                                0.001344\n",
       "                 Copper                                   0.001364\n",
       "                 Gold                                     0.000944\n",
       "                                                            ...   \n",
       "Utilities        Utilities—Diversified                    0.001956\n",
       "                 Utilities—Independent Power Producers    0.000318\n",
       "                 Utilities—Regulated Electric             0.024266\n",
       "                 Utilities—Regulated Gas                  0.000743\n",
       "                 Utilities—Regulated Water                0.000752\n",
       "Name: Weight, Length: 113, dtype: float64"
      ]
     },
     "execution_count": 358,
     "metadata": {},
     "output_type": "execute_result"
    }
   ],
   "source": [
    "snp_comps.groupby(['Sector', 'Industry']).Weight.sum()"
   ]
  },
  {
   "cell_type": "markdown",
   "id": "1ddb8035",
   "metadata": {},
   "source": [
    "### DataFrame.rolling / DataFrame.expanding"
   ]
  },
  {
   "cell_type": "code",
   "execution_count": 375,
   "id": "c3324058",
   "metadata": {},
   "outputs": [],
   "source": [
    "pvt_snp_stocks = snp_stocks.pivot(index='Date', columns='Symbol', values='Adj Close')"
   ]
  },
  {
   "cell_type": "code",
   "execution_count": 376,
   "id": "8798fd88",
   "metadata": {},
   "outputs": [],
   "source": [
    "moving_avg_df = pvt_snp_stocks.rolling(window=12, min_periods=3).mean()"
   ]
  },
  {
   "cell_type": "code",
   "execution_count": 377,
   "id": "6d8416a0",
   "metadata": {},
   "outputs": [],
   "source": [
    "moving_avg_df.columns = [idx + '_MA' for idx in moving_avg_df.columns]"
   ]
  },
  {
   "cell_type": "code",
   "execution_count": 381,
   "id": "26a09b4c",
   "metadata": {},
   "outputs": [],
   "source": [
    "prc_snp_stocks = pd.concat([pvt_snp_stocks, moving_avg_df], axis=1)"
   ]
  },
  {
   "cell_type": "code",
   "execution_count": 387,
   "id": "9aa98194",
   "metadata": {},
   "outputs": [
    {
     "data": {
      "text/plain": [
       "<matplotlib.axes._subplots.AxesSubplot at 0x175216df208>"
      ]
     },
     "execution_count": 387,
     "metadata": {},
     "output_type": "execute_result"
    },
    {
     "data": {
      "image/png": "[encoded data removed]",
      "text/plain": [
       "<Figure size 432x288 with 1 Axes>"
      ]
     },
     "metadata": {
      "needs_background": "light"
     },
     "output_type": "display_data"
    }
   ],
   "source": [
    "prc_snp_stocks.loc['2020-01-01':, ['A', 'A_MA']].plot()"
   ]
  },
  {
   "cell_type": "markdown",
   "id": "8735b9bb",
   "metadata": {},
   "source": [
    "## Exercies 2.1\n",
    "- 1) snp_comps의 Country 컬럼을 {'United States' : 'US'}로 매핑하여 'CountryISO' 컬럼으로 저장\n",
    "- 2) snp_comps에서 Marketcap 컬럼을 log(MarketCap)으로 계산하여 'LogMarketcap' 컬럼으로 저장\n",
    "- 4) snp_comps에서 'LogMarketcap' (Desc), 'Ebitda' (Asc), 'Revenuegrowth' (Asc) 세 변수를 표준화하여 z-score로 계산\n",
    "    - LogMarketcap는 낮을수록 높은 z-score를 가지도록 변환\n",
    "- 5) snp_comps에서 3개 팩터를 동일 비중으로 합쳐서 최종 Composite z-score 생성하여 'CompFctr'로 저장\n",
    "- 6) 최종 팩터 'CompFctr' 기준으로 quintile (5분위)로 그룹 나눈 후,\n",
    "    - 각 그룹의 벤치마크 비중, 섹터 비중, 평균 Marketcap/Ebitda/Revenuegrowth 계산"
   ]
  },
  {
   "cell_type": "code",
   "execution_count": 389,
   "id": "e36dd003",
   "metadata": {},
   "outputs": [],
   "source": [
    "snp_comps = pd.read_csv('./data/sp500_companies.csv')\n",
    "snp_price = pd.read_csv('./data/sp500_index.csv')\n",
    "snp_stocks = pd.read_csv('./data/sp500_stocks.csv')"
   ]
  }
 ],
 "metadata": {
  "kernelspec": {
   "display_name": "Python 3 (ipykernel)",
   "language": "python",
   "name": "python3"
  },
  "language_info": {
   "codemirror_mode": {
    "name": "ipython",
    "version": 3
   },
   "file_extension": ".py",
   "mimetype": "text/x-python",
   "name": "python",
   "nbconvert_exporter": "python",
   "pygments_lexer": "ipython3",
   "version": "3.9.13"
  },
  "toc": {
   "base_numbering": 1,
   "nav_menu": {},
   "number_sections": true,
   "sideBar": true,
   "skip_h1_title": false,
   "title_cell": "Table of Contents",
   "title_sidebar": "Contents",
   "toc_cell": false,
   "toc_position": {
    "height": "calc(100% - 180px)",
    "left": "10px",
    "top": "150px",
    "width": "240.725px"
   },
   "toc_section_display": true,
   "toc_window_display": true
  }
 },
 "nbformat": 4,
 "nbformat_minor": 5
}
